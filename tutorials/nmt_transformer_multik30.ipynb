{
 "cells": [
  {
   "cell_type": "markdown",
   "metadata": {},
   "source": [
    "# Neural Machine Translation with a transformer model\n",
    "\n",
    "In this tutorial you'll learn how to create and train a transformer model to translate from english to deutsch using the Multi30k dataset.\n",
    "\n",
    "Details:\n",
    "* Framework: PyTorch\n",
    "* Model: Transformer\n",
    "* Task: Language Translation (en->de) \n",
    "* Packages: Torchtext, SpaCy\n",
    "* Dataset: Multi30k"
   ]
  },
  {
   "cell_type": "markdown",
   "metadata": {},
   "source": [
    "Installs: to run this tutorial, first install TorchText and SpaCy typing the following commands in your environment:\n",
    "\n",
    "```\n",
    "#Upgrade pip\n",
    "pip install --upgrade pip\n",
    "\n",
    "#Install torchtext\n",
    "pip install torchtext\n",
    "\n",
    "#Install spacy\n",
    "conda install spacy # or pip install spacy\n",
    "\n",
    "#Download English and German tokenizers\n",
    "python -m spacy download en\n",
    "python -m spacy download de\n",
    "```"
   ]
  },
  {
   "cell_type": "markdown",
   "metadata": {},
   "source": [
    "# Imports"
   ]
  },
  {
   "cell_type": "code",
   "execution_count": 1,
   "metadata": {},
   "outputs": [
    {
     "name": "stdout",
     "output_type": "stream",
     "text": [
      "Torch version: 1.4.0\n"
     ]
    }
   ],
   "source": [
    "# Imports\n",
    "import torch\n",
    "import torch.nn as nn\n",
    "import torch.optim as optim\n",
    "import torch.nn.functional as F\n",
    "\n",
    "from torch.nn import Transformer, TransformerEncoder, TransformerEncoderLayer, TransformerDecoder, TransformerDecoderLayer\n",
    "\n",
    "from torchtext.datasets import Multi30k\n",
    "from torchtext.data import Field, BucketIterator, Iterator\n",
    "\n",
    "import numpy as np\n",
    "import matplotlib.pyplot as plt\n",
    "\n",
    "import math\n",
    "import time\n",
    "\n",
    "print(f'Torch version: {torch.__version__}')"
   ]
  },
  {
   "cell_type": "markdown",
   "metadata": {},
   "source": [
    "# 1. Model"
   ]
  },
  {
   "cell_type": "code",
   "execution_count": 2,
   "metadata": {},
   "outputs": [],
   "source": [
    "class TransformerModel(nn.Module):\n",
    "    def __init__(self,\n",
    "                 src_vocab_size: int,\n",
    "                 trg_vocab_size: int,\n",
    "                 d_model: int,\n",
    "                 num_heads: int,\n",
    "                 num_enc_layers: int,\n",
    "                 num_dec_layers: int,\n",
    "                 ffn_size: int,\n",
    "                 dropout: float,\n",
    "                 activation: str):\n",
    "        \n",
    "        #super(TransformerModel, self).__init__()\n",
    "        super().__init__()\n",
    "        \n",
    "        self.d_model = d_model\n",
    "\n",
    "        # Embeddings\n",
    "        self.enc_embedding = nn.Embedding(num_embeddings = src_vocab_size, \n",
    "                                          embedding_dim = d_model)\n",
    "        self.dec_embedding = nn.Embedding(num_embeddings = trg_vocab_size,\n",
    "                                          embedding_dim = d_model)\n",
    "        \n",
    "        # Positional encoding\n",
    "        self.pos_encoder = PositionalEncoding(d_model, dropout)\n",
    "        \n",
    "        # Custom encoder\n",
    "        #encoder_layer = TransformerEncoderLayer(d_model, num_heads, ffn_size, dropout, activation)\n",
    "        #encoder_norm = nn.LayerNorm(d_model)\n",
    "        #self.encoder = TransformerEncoder(encoder_layer, num_enc_layers, encoder_norm)\n",
    "        \n",
    "        # Custom decoder\n",
    "        #decoder_layer = TransformerDecoderLayer(d_model, num_heads, ffn_size, dropout, activation)\n",
    "        #decoder_norm = nn.LayerNorm(d_model)\n",
    "        #self.decoder = TransformerDecoder(decoder_layer, num_dec_layers, decoder_norm)\n",
    "        \n",
    "        # Transformer\n",
    "        self.transformer = nn.Transformer(d_model = d_model, \n",
    "                                          nhead = num_heads,\n",
    "                                          num_encoder_layers = num_enc_layers,\n",
    "                                          num_decoder_layers = num_dec_layers,\n",
    "                                          dim_feedforward = ffn_size,\n",
    "                                          dropout = dropout,\n",
    "                                          activation = activation,\n",
    "                                          custom_encoder = None, #self.encoder,\n",
    "                                          custom_decoder = None) #self.decoder)\n",
    "        \n",
    "        # Linear layer\n",
    "        self.fc = nn.Linear(d_model, trg_vocab_size)\n",
    "        \n",
    "        # Initialize weights\n",
    "        self.init_weights() # default: normal(0,1)\n",
    "\n",
    "\n",
    "    def init_weights(self):\n",
    "        #self.enc_embedding.weight.data.normal_(mean=0.0, std=1.0)\n",
    "        #self.dec_embedding.weight.data.normal_(mean=0.0, std=1.0)\n",
    "        nn.init.normal_(self.enc_embedding.weight, mean=0.0, std=1.0)\n",
    "        nn.init.normal_(self.dec_embedding.weight, mean=0.0, std=1.0)\n",
    "        \n",
    "        \n",
    "    def forward(self, src: torch.tensor, trg: torch.tensor):\n",
    "        src = self.enc_embedding(src) * math.sqrt(self.d_model)\n",
    "        src = self.pos_encoder(src)\n",
    "\n",
    "        trg = self.dec_embedding(trg) * math.sqrt(self.d_model)\n",
    "        trg = self.pos_encoder(trg)\n",
    "\n",
    "        output = self.transformer(src, trg)\n",
    "        output = self.fc(output)\n",
    "\n",
    "        return output"
   ]
  },
  {
   "cell_type": "code",
   "execution_count": 3,
   "metadata": {},
   "outputs": [],
   "source": [
    "class PositionalEncoding(nn.Module):\n",
    "\n",
    "    def __init__(self, d_model, dropout=0.1, max_len=5000):\n",
    "        super(PositionalEncoding, self).__init__()\n",
    "        self.dropout = nn.Dropout(p=dropout)\n",
    "\n",
    "        pe = torch.zeros(max_len, d_model)\n",
    "        position = torch.arange(0, max_len, dtype=torch.float).unsqueeze(1)\n",
    "        div_term = torch.exp(torch.arange(0, d_model, 2).float() * (-math.log(10000.0) / d_model))\n",
    "        pe[:, 0::2] = torch.sin(position * div_term)\n",
    "        pe[:, 1::2] = torch.cos(position * div_term)\n",
    "        pe = pe.unsqueeze(0).transpose(0, 1)\n",
    "        self.register_buffer('pe', pe)\n",
    "\n",
    "    def forward(self, x):\n",
    "        x = x + self.pe[:x.size(0), :]\n",
    "        return self.dropout(x)"
   ]
  },
  {
   "cell_type": "markdown",
   "metadata": {},
   "source": [
    "# 2. Train, evaluate and inference functions"
   ]
  },
  {
   "cell_type": "code",
   "execution_count": 4,
   "metadata": {},
   "outputs": [],
   "source": [
    "def train(model: nn.Module,\n",
    "          iterator: BucketIterator,\n",
    "          optimizer: optim.Optimizer,\n",
    "          criterion: nn.Module,\n",
    "          clip_value: float):\n",
    "    \n",
    "    model.train() # Turn on the training mode\n",
    "\n",
    "    loss_sum = 0\n",
    "\n",
    "    for i, batch in enumerate(iterator):\n",
    "        src = batch.src\n",
    "        trg = batch.trg\n",
    "            #src: [src_len, batch_size]\n",
    "            #trg: [trg_len, batch_size]\n",
    "    \n",
    "        src = src.to(device)\n",
    "        trg = trg.to(device)\n",
    "\n",
    "        output = model(src = src[:,:], trg = trg[:-1,:])\n",
    "            # output: [trg_len-1, batch_size, trg_vocab_size]\n",
    "        \n",
    "        loss =  criterion(output.view(-1, output.shape[2]), trg[1:,:].view(-1))\n",
    "\n",
    "        optimizer.zero_grad()\n",
    "        loss.backward()\n",
    "        torch.nn.utils.clip_grad_norm_(model.parameters(), clip_value)\n",
    "        optimizer.step()\n",
    "        \n",
    "        loss_sum += loss.item()\n",
    "\n",
    "    epoch_loss = loss_sum / len(iterator)\n",
    "    return epoch_loss"
   ]
  },
  {
   "cell_type": "code",
   "execution_count": 5,
   "metadata": {},
   "outputs": [],
   "source": [
    "def evaluate(model: nn.Module,\n",
    "             iterator: BucketIterator,\n",
    "             criterion: nn.Module):\n",
    "    \n",
    "    model.eval() # Turn on the evaluation mode\n",
    "    \n",
    "    loss_sum = 0\n",
    "    \n",
    "    with torch.no_grad():\n",
    "\n",
    "        for i, batch in enumerate(iterator):\n",
    "            src = batch.src\n",
    "            trg = batch.trg\n",
    "                #src: [src_len, batch_size]\n",
    "                #trg: [trg_len, batch_size]\n",
    "\n",
    "            src = src.to(device)\n",
    "            trg = trg.to(device)\n",
    "\n",
    "            output = model(src = src[:,:], trg = trg[:-1,:])\n",
    "                # output: [trg_len-1, batch_size, trg_vocab_size]\n",
    "\n",
    "            loss =  criterion(output.view(-1, output.shape[2]), trg[1:,:].view(-1))\n",
    "\n",
    "            loss_sum += loss.item()\n",
    "\n",
    "        epoch_loss = loss_sum / len(iterator)\n",
    "    return epoch_loss"
   ]
  },
  {
   "cell_type": "code",
   "execution_count": 6,
   "metadata": {},
   "outputs": [],
   "source": [
    "def inference(src: torch.tensor,\n",
    "              trg: torch.tensor,\n",
    "              model: nn.Module,\n",
    "              criterion: nn.Module):\n",
    "    \n",
    "    model.eval() # Turn on the evaluation mode\n",
    "    \n",
    "    with torch.no_grad():\n",
    "            #src: [src_len, batch_size]\n",
    "            #trg: [trg_len, batch_size]\n",
    "    \n",
    "        src = src.to(device)\n",
    "        trg = trg.to(device)\n",
    "        \n",
    "        output = model(src = src[:,:], trg = trg[:-1,:])\n",
    "            #output: [trg_len-1, batch_size, trg_vocab_size]\n",
    "\n",
    "        loss =  criterion(output.view(-1, output.shape[2]), trg[1:,:].view(-1))\n",
    "   \n",
    "        #Predictions\n",
    "        preds = torch.argmax(output.permute(1, 0, 2), dim = 2)\n",
    "        preds_words = []\n",
    "        for sent in preds:\n",
    "            sent_words = []\n",
    "            for token in sent:\n",
    "                if token == TRG.vocab.stoi['<eos>']:\n",
    "                    break\n",
    "                else:\n",
    "                    sent_words.append(TRG.vocab.itos[token])\n",
    "            preds_words.append(sent_words)\n",
    "\n",
    "        #Targets\n",
    "        trgs_words = []\n",
    "        for sent in trg.permute(1,0)[:,1:]:\n",
    "            sent_words = []\n",
    "            for token in sent:\n",
    "                if token == TRG.vocab.stoi['<eos>']:\n",
    "                    break\n",
    "                else:\n",
    "                    sent_words.append(TRG.vocab.itos[token])\n",
    "            trgs_words.append(sent_words)\n",
    "        \n",
    "        #Sources\n",
    "        srcs_words = []\n",
    "        for sent in src.permute(1,0)[:,:]:\n",
    "            sent_words = []\n",
    "            for token in sent:\n",
    "                if token == SRC.vocab.stoi['<eos>']:\n",
    "                    break\n",
    "                else:\n",
    "                    sent_words.append(SRC.vocab.itos[token])\n",
    "            srcs_words.append(sent_words)\n",
    "\n",
    "        for i in range(len(preds_words)):\n",
    "            print(f\"\\nsrc:\\t {' '.join([token for token in srcs_words[i]])}\")\n",
    "            print(f\"trg:\\t {' '.join([token for token in trgs_words[i]])}\")\n",
    "            print(f\"pred:\\t {' '.join([token for token in preds_words[i]])}\")\n",
    "    \n",
    "    return loss"
   ]
  },
  {
   "cell_type": "code",
   "execution_count": 7,
   "metadata": {},
   "outputs": [],
   "source": [
    "def count_parameters(model: nn.Module):\n",
    "    return sum(p.numel() for p in model.parameters() if p.requires_grad)"
   ]
  },
  {
   "cell_type": "code",
   "execution_count": 8,
   "metadata": {},
   "outputs": [],
   "source": [
    "def epoch_time(start_time: int, end_time: int):\n",
    "    elapsed_time = end_time - start_time\n",
    "    elapsed_mins = int(elapsed_time / 60)\n",
    "    elapsed_secs = int(elapsed_time - (elapsed_mins * 60))\n",
    "    return elapsed_mins, elapsed_secs"
   ]
  },
  {
   "cell_type": "markdown",
   "metadata": {},
   "source": [
    "# 3. Run the model"
   ]
  },
  {
   "cell_type": "code",
   "execution_count": 9,
   "metadata": {},
   "outputs": [],
   "source": [
    "# Hyperparameters\n",
    "tutorial_name = 'nmt_transformer_multik30'\n",
    "\n",
    "BATCH_SIZE = 32\n",
    "NUM_EPOCHS = 50\n",
    "\n",
    "LR = 0.001\n",
    "CLIP_VALUE = 1\n",
    "\n",
    "D_MODEL = 100 #in the original paper 512\n",
    "NUM_HEADS = 2 #in the original paper 8\n",
    "NUM_ENC_LAYERS = 2 #in the original paper 6 \n",
    "NUM_DEC_LAYERS = 2 #in the original paper 6\n",
    "FFN_SIZE = 512 #in the original paper 2048\n",
    "DROPOUT_PROB = 0.1 #in the original paper 0.1"
   ]
  },
  {
   "cell_type": "code",
   "execution_count": 10,
   "metadata": {},
   "outputs": [
    {
     "name": "stdout",
     "output_type": "stream",
     "text": [
      "Device: cuda\n"
     ]
    }
   ],
   "source": [
    "# Device configuration\n",
    "device = 'cuda' if torch.cuda.is_available() else 'cpu'\n",
    "print(f'Device: {device}')"
   ]
  },
  {
   "cell_type": "code",
   "execution_count": 11,
   "metadata": {},
   "outputs": [],
   "source": [
    "# Fields\n",
    "SRC = Field(tokenize = \"spacy\",\n",
    "            tokenizer_language=\"de\",\n",
    "            sequential = True,\n",
    "            use_vocab = True,\n",
    "            init_token = None, \n",
    "            eos_token = '<eos>',\n",
    "            fix_length = None,\n",
    "            dtype = torch.long,\n",
    "            lower = True,\n",
    "            include_lengths = False,\n",
    "            batch_first = False,\n",
    "            pad_token = \"<pad>\",\n",
    "            unk_token = \"<unk>\")\n",
    "\n",
    "TRG = Field(tokenize = \"spacy\",\n",
    "            tokenizer_language=\"en\",\n",
    "            sequential = True,\n",
    "            use_vocab = True,\n",
    "            init_token = '<sos>', \n",
    "            eos_token = '<eos>',\n",
    "            fix_length = None,\n",
    "            dtype = torch.long,\n",
    "            lower = True,\n",
    "            include_lengths = False,\n",
    "            batch_first = False,\n",
    "            pad_token = \"<pad>\",\n",
    "            unk_token = \"<unk>\")\n",
    "\n",
    "fields = [('src', SRC), ('trg', TRG)]"
   ]
  },
  {
   "cell_type": "code",
   "execution_count": 12,
   "metadata": {},
   "outputs": [
    {
     "name": "stdout",
     "output_type": "stream",
     "text": [
      "downloading training.tar.gz\n"
     ]
    },
    {
     "name": "stderr",
     "output_type": "stream",
     "text": [
      "training.tar.gz: 100%|██████████| 1.21M/1.21M [00:02<00:00, 454kB/s] \n"
     ]
    },
    {
     "name": "stdout",
     "output_type": "stream",
     "text": [
      "downloading validation.tar.gz\n"
     ]
    },
    {
     "name": "stderr",
     "output_type": "stream",
     "text": [
      "validation.tar.gz: 100%|██████████| 46.3k/46.3k [00:00<00:00, 113kB/s] \n"
     ]
    },
    {
     "name": "stdout",
     "output_type": "stream",
     "text": [
      "downloading mmt_task1_test2016.tar.gz\n"
     ]
    },
    {
     "name": "stderr",
     "output_type": "stream",
     "text": [
      "mmt_task1_test2016.tar.gz: 100%|██████████| 66.2k/66.2k [00:00<00:00, 93.9kB/s]\n"
     ]
    },
    {
     "name": "stdout",
     "output_type": "stream",
     "text": [
      "train_data size: 29000\n",
      "dev_data size: 1014\n",
      "test_data size: 1000\n"
     ]
    }
   ],
   "source": [
    "# Load dataset\n",
    "train_data, dev_data, test_data = Multi30k.splits(exts = ('.de', '.en'),\n",
    "                                                  fields = fields)\n",
    "\n",
    "print(f'train_data size: {len(train_data)}')\n",
    "print(f'dev_data size: {len(dev_data)}')\n",
    "print(f'test_data size: {len(test_data)}')"
   ]
  },
  {
   "cell_type": "code",
   "execution_count": 13,
   "metadata": {},
   "outputs": [
    {
     "name": "stdout",
     "output_type": "stream",
     "text": [
      "src_vocab_size: 7854\n",
      "trg_vocab_size: 5893\n"
     ]
    }
   ],
   "source": [
    "# Vocabulary\n",
    "SRC.build_vocab(train_data,\n",
    "                max_size = None,\n",
    "                min_freq = 2,\n",
    "                vectors = None)\n",
    "\n",
    "TRG.build_vocab(train_data,\n",
    "                max_size = None,\n",
    "                min_freq = 2,\n",
    "                vectors = None)\n",
    "\n",
    "print(f'src_vocab_size: {len(SRC.vocab)}')\n",
    "print(f'trg_vocab_size: {len(TRG.vocab)}')"
   ]
  },
  {
   "cell_type": "code",
   "execution_count": 14,
   "metadata": {},
   "outputs": [],
   "source": [
    "# Iterators\n",
    "iterators = BucketIterator.splits((train_data, dev_data, test_data),\n",
    "                                    batch_size = BATCH_SIZE,\n",
    "                                    sort_key = lambda x: len(x.src),\n",
    "                                    device = None,\n",
    "                                    shuffle = True)\n",
    "train_iterator, dev_iterator, test_iterator = iterators"
   ]
  },
  {
   "cell_type": "code",
   "execution_count": 15,
   "metadata": {
    "scrolled": true
   },
   "outputs": [],
   "source": [
    "# Initialize the model\n",
    "model = TransformerModel(src_vocab_size = len(SRC.vocab),\n",
    "                         trg_vocab_size = len(TRG.vocab),\n",
    "                         d_model = D_MODEL,\n",
    "                         num_heads = NUM_HEADS,\n",
    "                         num_enc_layers = NUM_ENC_LAYERS,\n",
    "                         num_dec_layers = NUM_DEC_LAYERS,\n",
    "                         ffn_size = FFN_SIZE,\n",
    "                         dropout = DROPOUT_PROB,\n",
    "                         activation = 'relu')\n",
    "\n",
    "# Move model to the device\n",
    "model = model.to(device)\n",
    "#print(model)"
   ]
  },
  {
   "cell_type": "code",
   "execution_count": 16,
   "metadata": {},
   "outputs": [
    {
     "name": "stdout",
     "output_type": "stream",
     "text": [
      "\n",
      "num_parameters: 2626741\n"
     ]
    }
   ],
   "source": [
    "# Parameters\n",
    "num_parameters = count_parameters(model)\n",
    "print(f'\\nnum_parameters: {num_parameters}')"
   ]
  },
  {
   "cell_type": "code",
   "execution_count": 17,
   "metadata": {},
   "outputs": [],
   "source": [
    "# Loss (CrossEntropyLoss calculates both nn.LogSoftmax() and nn.NLLLoss() )\n",
    "PAD_IDX = TRG.vocab.stoi['<pad>']\n",
    "criterion = nn.CrossEntropyLoss(ignore_index=PAD_IDX)"
   ]
  },
  {
   "cell_type": "code",
   "execution_count": 18,
   "metadata": {},
   "outputs": [],
   "source": [
    "# Optimizer\n",
    "optimizer = optim.Adam(params = model.parameters(), lr = LR)"
   ]
  },
  {
   "cell_type": "code",
   "execution_count": 19,
   "metadata": {
    "scrolled": true
   },
   "outputs": [
    {
     "name": "stdout",
     "output_type": "stream",
     "text": [
      "\n",
      "Training:\n",
      "--------------------------------------------------------------------------------\n",
      "Epoch: 001 | Time: 0m 22s\n",
      "\tTrain loss: 3.9255 | Train PPL: 50.6791\n",
      "\tDev loss:   2.9434 | Dev PPL:   18.9794\n",
      "--------------------------------------------------------------------------------\n",
      "Epoch: 002 | Time: 0m 21s\n",
      "\tTrain loss: 2.9142 | Train PPL: 18.4342\n",
      "\tDev loss:   2.3481 | Dev PPL:   10.4657\n",
      "--------------------------------------------------------------------------------\n",
      "Epoch: 003 | Time: 0m 21s\n",
      "\tTrain loss: 2.4301 | Train PPL: 11.3604\n",
      "\tDev loss:   2.0198 | Dev PPL:    7.5372\n",
      "--------------------------------------------------------------------------------\n",
      "Epoch: 004 | Time: 0m 21s\n",
      "\tTrain loss: 2.1237 | Train PPL:  8.3623\n",
      "\tDev loss:   1.8371 | Dev PPL:    6.2784\n",
      "--------------------------------------------------------------------------------\n",
      "Epoch: 005 | Time: 0m 21s\n",
      "\tTrain loss: 1.9136 | Train PPL:  6.7777\n",
      "\tDev loss:   1.6810 | Dev PPL:    5.3710\n",
      "--------------------------------------------------------------------------------\n",
      "Epoch: 006 | Time: 0m 21s\n",
      "\tTrain loss: 1.7558 | Train PPL:  5.7878\n",
      "\tDev loss:   1.6026 | Dev PPL:    4.9662\n",
      "--------------------------------------------------------------------------------\n",
      "Epoch: 007 | Time: 0m 22s\n",
      "\tTrain loss: 1.6368 | Train PPL:  5.1389\n",
      "\tDev loss:   1.5423 | Dev PPL:    4.6751\n",
      "--------------------------------------------------------------------------------\n",
      "Epoch: 008 | Time: 0m 21s\n",
      "\tTrain loss: 1.5421 | Train PPL:  4.6743\n",
      "\tDev loss:   1.4851 | Dev PPL:    4.4154\n",
      "--------------------------------------------------------------------------------\n",
      "Epoch: 009 | Time: 0m 21s\n",
      "\tTrain loss: 1.4712 | Train PPL:  4.3545\n",
      "\tDev loss:   1.4422 | Dev PPL:    4.2299\n",
      "--------------------------------------------------------------------------------\n",
      "Epoch: 010 | Time: 0m 21s\n",
      "\tTrain loss: 1.4102 | Train PPL:  4.0968\n",
      "\tDev loss:   1.4196 | Dev PPL:    4.1354\n",
      "--------------------------------------------------------------------------------\n",
      "Epoch: 011 | Time: 0m 21s\n",
      "\tTrain loss: 1.3550 | Train PPL:  3.8767\n",
      "\tDev loss:   1.4195 | Dev PPL:    4.1351\n",
      "--------------------------------------------------------------------------------\n",
      "Epoch: 012 | Time: 0m 21s\n",
      "\tTrain loss: 1.3182 | Train PPL:  3.7367\n",
      "\tDev loss:   1.4007 | Dev PPL:    4.0581\n",
      "--------------------------------------------------------------------------------\n",
      "Epoch: 013 | Time: 0m 21s\n",
      "\tTrain loss: 1.2754 | Train PPL:  3.5801\n",
      "\tDev loss:   1.3751 | Dev PPL:    3.9554\n",
      "--------------------------------------------------------------------------------\n",
      "Epoch: 014 | Time: 0m 21s\n",
      "\tTrain loss: 1.2423 | Train PPL:  3.4637\n",
      "\tDev loss:   1.3443 | Dev PPL:    3.8354\n",
      "--------------------------------------------------------------------------------\n",
      "Epoch: 015 | Time: 0m 21s\n",
      "\tTrain loss: 1.2112 | Train PPL:  3.3575\n",
      "\tDev loss:   1.3507 | Dev PPL:    3.8601\n",
      "--------------------------------------------------------------------------------\n",
      "Epoch: 016 | Time: 0m 21s\n",
      "\tTrain loss: 1.1858 | Train PPL:  3.2732\n",
      "\tDev loss:   1.3292 | Dev PPL:    3.7781\n",
      "--------------------------------------------------------------------------------\n",
      "Epoch: 017 | Time: 0m 21s\n",
      "\tTrain loss: 1.1645 | Train PPL:  3.2043\n",
      "\tDev loss:   1.3205 | Dev PPL:    3.7451\n",
      "--------------------------------------------------------------------------------\n",
      "Epoch: 018 | Time: 0m 22s\n",
      "\tTrain loss: 1.1378 | Train PPL:  3.1198\n",
      "\tDev loss:   1.3186 | Dev PPL:    3.7380\n",
      "--------------------------------------------------------------------------------\n",
      "Epoch: 019 | Time: 0m 22s\n",
      "\tTrain loss: 1.1169 | Train PPL:  3.0554\n",
      "\tDev loss:   1.3073 | Dev PPL:    3.6963\n",
      "--------------------------------------------------------------------------------\n",
      "Epoch: 020 | Time: 0m 22s\n",
      "\tTrain loss: 1.0958 | Train PPL:  2.9916\n",
      "\tDev loss:   1.2857 | Dev PPL:    3.6170\n",
      "--------------------------------------------------------------------------------\n",
      "Epoch: 021 | Time: 0m 22s\n",
      "\tTrain loss: 1.0774 | Train PPL:  2.9371\n",
      "\tDev loss:   1.2972 | Dev PPL:    3.6590\n",
      "--------------------------------------------------------------------------------\n",
      "Epoch: 022 | Time: 0m 22s\n",
      "\tTrain loss: 1.0615 | Train PPL:  2.8907\n",
      "\tDev loss:   1.2852 | Dev PPL:    3.6153\n",
      "--------------------------------------------------------------------------------\n",
      "Epoch: 023 | Time: 0m 22s\n",
      "\tTrain loss: 1.0423 | Train PPL:  2.8357\n",
      "\tDev loss:   1.2789 | Dev PPL:    3.5928\n",
      "--------------------------------------------------------------------------------\n",
      "Epoch: 024 | Time: 0m 23s\n",
      "\tTrain loss: 1.0286 | Train PPL:  2.7971\n",
      "\tDev loss:   1.2693 | Dev PPL:    3.5584\n",
      "--------------------------------------------------------------------------------\n",
      "Epoch: 025 | Time: 0m 24s\n",
      "\tTrain loss: 1.0149 | Train PPL:  2.7590\n",
      "\tDev loss:   1.2779 | Dev PPL:    3.5889\n",
      "--------------------------------------------------------------------------------\n",
      "Epoch: 026 | Time: 0m 22s\n",
      "\tTrain loss: 0.9978 | Train PPL:  2.7124\n",
      "\tDev loss:   1.2671 | Dev PPL:    3.5505\n",
      "--------------------------------------------------------------------------------\n",
      "Epoch: 027 | Time: 0m 22s\n",
      "\tTrain loss: 0.9835 | Train PPL:  2.6737\n",
      "\tDev loss:   1.2370 | Dev PPL:    3.4452\n",
      "--------------------------------------------------------------------------------\n",
      "Epoch: 028 | Time: 0m 22s\n",
      "\tTrain loss: 0.9670 | Train PPL:  2.6299\n",
      "\tDev loss:   1.2275 | Dev PPL:    3.4126\n",
      "--------------------------------------------------------------------------------\n",
      "Epoch: 029 | Time: 0m 22s\n",
      "\tTrain loss: 0.9550 | Train PPL:  2.5986\n",
      "\tDev loss:   1.2299 | Dev PPL:    3.4209\n",
      "--------------------------------------------------------------------------------\n",
      "Epoch: 030 | Time: 0m 22s\n",
      "\tTrain loss: 0.9427 | Train PPL:  2.5670\n",
      "\tDev loss:   1.2162 | Dev PPL:    3.3744\n",
      "--------------------------------------------------------------------------------\n",
      "Epoch: 031 | Time: 0m 22s\n",
      "\tTrain loss: 0.9280 | Train PPL:  2.5295\n",
      "\tDev loss:   1.2066 | Dev PPL:    3.3421\n",
      "--------------------------------------------------------------------------------\n",
      "Epoch: 032 | Time: 0m 22s\n",
      "\tTrain loss: 0.9134 | Train PPL:  2.4928\n",
      "\tDev loss:   1.2166 | Dev PPL:    3.3757\n",
      "--------------------------------------------------------------------------------\n",
      "Epoch: 033 | Time: 0m 22s\n",
      "\tTrain loss: 0.9064 | Train PPL:  2.4753\n",
      "\tDev loss:   1.1818 | Dev PPL:    3.2602\n",
      "--------------------------------------------------------------------------------\n",
      "Epoch: 034 | Time: 0m 22s\n",
      "\tTrain loss: 0.8902 | Train PPL:  2.4357\n",
      "\tDev loss:   1.1966 | Dev PPL:    3.3088\n",
      "--------------------------------------------------------------------------------\n",
      "Epoch: 035 | Time: 0m 22s\n",
      "\tTrain loss: 0.8813 | Train PPL:  2.4142\n",
      "\tDev loss:   1.1921 | Dev PPL:    3.2940\n",
      "--------------------------------------------------------------------------------\n",
      "Epoch: 036 | Time: 0m 22s\n",
      "\tTrain loss: 0.8695 | Train PPL:  2.3857\n",
      "\tDev loss:   1.1739 | Dev PPL:    3.2347\n",
      "--------------------------------------------------------------------------------\n",
      "Epoch: 037 | Time: 0m 22s\n",
      "\tTrain loss: 0.8545 | Train PPL:  2.3502\n",
      "\tDev loss:   1.1691 | Dev PPL:    3.2192\n",
      "--------------------------------------------------------------------------------\n",
      "Epoch: 038 | Time: 0m 22s\n",
      "\tTrain loss: 0.8441 | Train PPL:  2.3260\n",
      "\tDev loss:   1.1577 | Dev PPL:    3.1827\n",
      "--------------------------------------------------------------------------------\n",
      "Epoch: 039 | Time: 0m 21s\n",
      "\tTrain loss: 0.8326 | Train PPL:  2.2993\n",
      "\tDev loss:   1.1537 | Dev PPL:    3.1698\n",
      "--------------------------------------------------------------------------------\n",
      "Epoch: 040 | Time: 0m 22s\n",
      "\tTrain loss: 0.8228 | Train PPL:  2.2769\n",
      "\tDev loss:   1.1318 | Dev PPL:    3.1012\n",
      "--------------------------------------------------------------------------------\n",
      "Epoch: 041 | Time: 0m 22s\n",
      "\tTrain loss: 0.8106 | Train PPL:  2.2492\n",
      "\tDev loss:   1.1239 | Dev PPL:    3.0770\n",
      "--------------------------------------------------------------------------------\n",
      "Epoch: 042 | Time: 0m 22s\n",
      "\tTrain loss: 0.7994 | Train PPL:  2.2243\n",
      "\tDev loss:   1.1217 | Dev PPL:    3.0702\n",
      "--------------------------------------------------------------------------------\n",
      "Epoch: 043 | Time: 0m 22s\n",
      "\tTrain loss: 0.7900 | Train PPL:  2.2033\n",
      "\tDev loss:   1.1122 | Dev PPL:    3.0411\n",
      "--------------------------------------------------------------------------------\n",
      "Epoch: 044 | Time: 0m 22s\n",
      "\tTrain loss: 0.7774 | Train PPL:  2.1758\n",
      "\tDev loss:   1.1007 | Dev PPL:    3.0062\n",
      "--------------------------------------------------------------------------------\n",
      "Epoch: 045 | Time: 0m 22s\n",
      "\tTrain loss: 0.7666 | Train PPL:  2.1524\n",
      "\tDev loss:   1.1150 | Dev PPL:    3.0495\n",
      "--------------------------------------------------------------------------------\n",
      "Epoch: 046 | Time: 0m 22s\n",
      "\tTrain loss: 0.7559 | Train PPL:  2.1295\n",
      "\tDev loss:   1.0973 | Dev PPL:    2.9961\n",
      "--------------------------------------------------------------------------------\n",
      "Epoch: 047 | Time: 0m 23s\n",
      "\tTrain loss: 0.7442 | Train PPL:  2.1048\n",
      "\tDev loss:   1.0876 | Dev PPL:    2.9672\n",
      "--------------------------------------------------------------------------------\n",
      "Epoch: 048 | Time: 0m 23s\n",
      "\tTrain loss: 0.7328 | Train PPL:  2.0810\n",
      "\tDev loss:   1.0737 | Dev PPL:    2.9262\n",
      "--------------------------------------------------------------------------------\n",
      "Epoch: 049 | Time: 0m 23s\n",
      "\tTrain loss: 0.7222 | Train PPL:  2.0589\n",
      "\tDev loss:   1.0609 | Dev PPL:    2.8889\n",
      "--------------------------------------------------------------------------------\n",
      "Epoch: 050 | Time: 0m 22s\n",
      "\tTrain loss: 0.7117 | Train PPL:  2.0374\n",
      "\tDev loss:   1.0468 | Dev PPL:    2.8484\n"
     ]
    }
   ],
   "source": [
    "# Training loop\n",
    "print('\\nTraining:')\n",
    "\n",
    "train_loss_history = []\n",
    "dev_loss_history = []\n",
    "best_dev_loss = float('inf')\n",
    "\n",
    "for epoch in range(NUM_EPOCHS):\n",
    "    \n",
    "    start_time = time.time()\n",
    "\n",
    "    train_loss = train(model = model,\n",
    "                       iterator = train_iterator,\n",
    "                       optimizer = optimizer,\n",
    "                       criterion =  criterion,\n",
    "                       clip_value = CLIP_VALUE)\n",
    "  \n",
    "    dev_loss = evaluate(model = model,\n",
    "                        iterator = dev_iterator,\n",
    "                        criterion =  criterion)\n",
    "    \n",
    "    train_loss_history.append(train_loss)\n",
    "    dev_loss_history.append(dev_loss)\n",
    "\n",
    "    end_time = time.time()\n",
    "    epoch_mins, epoch_secs = epoch_time(start_time, end_time)\n",
    "\n",
    "    if dev_loss < best_dev_loss:\n",
    "        best_dev_loss = dev_loss\n",
    "        torch.save(model.state_dict(), 'saved_models/'+tutorial_name+'.pt')\n",
    "    \n",
    "    #if epoch+1 == 1 or (epoch+1) % 10 == 0:\n",
    "    print('-' * 80)\n",
    "    print(f'Epoch: {epoch+1:03} | Time: {epoch_mins}m {epoch_secs}s')\n",
    "    print(f'\\tTrain loss: {train_loss:.4f} | Train PPL: {math.exp(train_loss):7.4f}')\n",
    "    print(f'\\tDev loss:   {dev_loss:.4f} | Dev PPL:   {math.exp(dev_loss):7.4f}')"
   ]
  },
  {
   "cell_type": "markdown",
   "metadata": {},
   "source": [
    "# 4. Learning curves"
   ]
  },
  {
   "cell_type": "code",
   "execution_count": 20,
   "metadata": {},
   "outputs": [
    {
     "data": {
      "text/plain": [
       "<matplotlib.legend.Legend at 0x7f4a99aaae80>"
      ]
     },
     "execution_count": 20,
     "metadata": {},
     "output_type": "execute_result"
    },
    {
     "data": {
      "image/png": "[encoded data removed]",
      "text/plain": [
       "<Figure size 1080x576 with 1 Axes>"
      ]
     },
     "metadata": {
      "needs_background": "light"
     },
     "output_type": "display_data"
    }
   ],
   "source": [
    "plt.figure(figsize=(15,8))\n",
    "plt.grid(b=True)\n",
    "plt.plot(train_loss_history, label='Train loss')\n",
    "plt.plot(dev_loss_history, label='Dev loss')\n",
    "plt.title('Learning curves')\n",
    "plt.ylabel('Value')\n",
    "plt.xlabel('Epoch')\n",
    "plt.legend()"
   ]
  },
  {
   "cell_type": "code",
   "execution_count": 21,
   "metadata": {},
   "outputs": [
    {
     "name": "stdout",
     "output_type": "stream",
     "text": [
      "min_dev_loss: 1.0467741768807173 , epoch: 50\n"
     ]
    }
   ],
   "source": [
    "# Best dev loss\n",
    "min_dev_loss = min(dev_loss_history)\n",
    "epoch = np.argmin(dev_loss_history)+1\n",
    "print(f'min_dev_loss: {min_dev_loss} , epoch: {epoch}')"
   ]
  },
  {
   "cell_type": "markdown",
   "metadata": {},
   "source": [
    "# 5. Evaluation"
   ]
  },
  {
   "cell_type": "code",
   "execution_count": 23,
   "metadata": {},
   "outputs": [
    {
     "name": "stdout",
     "output_type": "stream",
     "text": [
      "Test loss: 1.0557 | Test PPL:  2.8740\n"
     ]
    }
   ],
   "source": [
    "test_loss = evaluate(model = model,\n",
    "                     iterator = test_iterator,\n",
    "                     criterion =  criterion)\n",
    "    \n",
    "print(f'Test loss: {test_loss:.4f} | Test PPL: {math.exp(test_loss):7.4f}')"
   ]
  },
  {
   "cell_type": "markdown",
   "metadata": {},
   "source": [
    "# 6. Inference\n",
    "\n",
    "Take some test examples and check the trained model's output"
   ]
  },
  {
   "cell_type": "code",
   "execution_count": 24,
   "metadata": {},
   "outputs": [],
   "source": [
    "# Load bests model\n",
    "model.load_state_dict(torch.load('saved_models/'+tutorial_name+'.pt'))\n",
    "\n",
    "# Iterator\n",
    "infer_test_iterator = Iterator(test_data,\n",
    "                                 batch_size = 10,\n",
    "                                 sort_key = lambda x: len(x.src),\n",
    "                                 device = None,\n",
    "                                 shuffle = True,\n",
    "                                 sort = False)\n",
    "#print(model)"
   ]
  },
  {
   "cell_type": "code",
   "execution_count": 25,
   "metadata": {},
   "outputs": [
    {
     "name": "stdout",
     "output_type": "stream",
     "text": [
      "\n",
      "src:\t ein mann in einem roten hemd betritt ein <unk> .\n",
      "trg:\t a man in a red shirt entering an establishment .\n",
      "pred:\t a man in a red shirt entering an establishment .\n",
      "\n",
      "src:\t zwei junge männer fahren auf einem sehr kleinen wagen voller kartoffeln , der von einem pferd gezogen wird .\n",
      "trg:\t two young men riding on a very small horse - drawn wagon full of potatoes .\n",
      "pred:\t two young men riding on a very small wagon drawn drawn of full of potatoes .\n",
      "\n",
      "src:\t der hund mit dem roten halsband knurrt den hund mit dem blauen halsband an .\n",
      "trg:\t the dog with the red collar is <unk> its teeth at the dog with the blue collar .\n",
      "pred:\t the dog with the collar collar is <unk> at collar . the dog with the blue collar is\n",
      "\n",
      "src:\t eine frau in einem <unk> mantel steht vor einer <unk> <unk> und macht eine grimasse in richtung einer frau in einem violetten mantel .\n",
      "trg:\t a woman wearing a bright pink overcoat makes a face to a woman wearing a purple overcoat while standing outside a <unk> <unk> .\n",
      "pred:\t a woman wearing a bright pink coat wearing a woman while a woman wearing a woman overcoat wearing standing outside a woman while while\n",
      "\n",
      "src:\t ein mann und zwei mädchen mit angelruten vor einem gewässer halten einen fisch hoch .\n",
      "trg:\t a man and two girls show off a fish while holding fishing poles in front of a body of water .\n",
      "pred:\t a man and two girls and off of body in holding a poles while front of water body of water .\n",
      "\n",
      "src:\t ein mann trägt eine große ladung von <unk> auf seiner schulter durch ein <unk> .\n",
      "trg:\t a man is carrying a large load of metal beams on his shoulder through a <unk> .\n",
      "pred:\t a man is carrying a large metal of metal structure of his shoulder of a large .\n",
      "\n",
      "src:\t radfahrer auf der straße , alle tragen helme .\n",
      "trg:\t people are riding bicycles in the street , and they are all wearing helmets .\n",
      "pred:\t people are riding bicycles , the street , they wearing are wearing wearing helmets .\n",
      "\n",
      "src:\t ein mann rührt in einem topf in seiner küche .\n",
      "trg:\t a man stirring a pot of liquid in this kitchen .\n",
      "pred:\t a man stirring a pot in liquid in this man .\n",
      "\n",
      "src:\t ein mann liegt auf einem sofa in einem <unk> .\n",
      "trg:\t a man lounges on a red sofa in a furniture <unk> .\n",
      "pred:\t a man lounges on a red sofa . a <unk> . .\n",
      "\n",
      "src:\t ein mann drückt den kopf eines anderen mannes nach unten und will ihm ins gesicht schlagen .\n",
      "trg:\t one man holds another man 's head down and prepares to punch him in the face .\n",
      "pred:\t one man holds another man 's face down the punch to punch him . the face .\n",
      "\n",
      "loss: 0.8795371055603027\n"
     ]
    }
   ],
   "source": [
    "batch = next(iter(infer_test_iterator))\n",
    "src = batch.src\n",
    "trg = batch.trg\n",
    "    #src: [src_len, batch_size]\n",
    "    #trg: [trg_len, batch_size]\n",
    "\n",
    "loss = inference(src, trg, model, criterion)\n",
    "print(f'\\nloss: {loss}')"
   ]
  },
  {
   "cell_type": "markdown",
   "metadata": {},
   "source": [
    "# That's it!"
   ]
  }
 ],
 "metadata": {
  "kernelspec": {
   "display_name": "Python 3",
   "language": "python",
   "name": "python3"
  },
  "language_info": {
   "codemirror_mode": {
    "name": "ipython",
    "version": 3
   },
   "file_extension": ".py",
   "mimetype": "text/x-python",
   "name": "python",
   "nbconvert_exporter": "python",
   "pygments_lexer": "ipython3",
   "version": "3.8.1"
  }
 },
 "nbformat": 4,
 "nbformat_minor": 4
}
