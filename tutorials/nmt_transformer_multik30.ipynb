{
 "cells": [
  {
   "cell_type": "markdown",
   "metadata": {},
   "source": [
    "# Neural Machine Translation with a transformer model\n",
    "\n",
    "In this tutorial you'll learn how to create and train a transformer model to translate from deutsch to english using the Multi30k dataset.\n",
    "\n",
    "Details:\n",
    "* Framework: PyTorch\n",
    "* Model: Transformer\n",
    "* Task: Language Translation (de->en) \n",
    "* Packages: Torchtext, SpaCy\n",
    "* Dataset: Multi30k"
   ]
  },
  {
   "cell_type": "markdown",
   "metadata": {},
   "source": [
    "Installs: to run this tutorial, first install TorchText and SpaCy typing the following commands in your environment:\n",
    "\n",
    "```\n",
    "#Upgrade pip\n",
    "pip install --upgrade pip\n",
    "\n",
    "#Install torchtext\n",
    "pip install torchtext\n",
    "\n",
    "#Install spacy\n",
    "conda install spacy # or pip install spacy\n",
    "\n",
    "#Download English and German tokenizers\n",
    "python -m spacy download en\n",
    "python -m spacy download de\n",
    "```"
   ]
  },
  {
   "cell_type": "markdown",
   "metadata": {},
   "source": [
    "# Imports"
   ]
  },
  {
   "cell_type": "code",
   "execution_count": 2,
   "metadata": {},
   "outputs": [
    {
     "output_type": "stream",
     "name": "stdout",
     "text": "Torch version: 1.4.0\n"
    }
   ],
   "source": [
    "import torch\n",
    "import torch.nn as nn\n",
    "import torch.optim as optim\n",
    "import torch.nn.functional as F\n",
    "\n",
    "from torch.nn import Transformer, TransformerEncoder, TransformerEncoderLayer, TransformerDecoder, TransformerDecoderLayer\n",
    "\n",
    "from torchtext.datasets import Multi30k\n",
    "from torchtext.data import Field, BucketIterator, Iterator\n",
    "\n",
    "import numpy as np\n",
    "import matplotlib.pyplot as plt\n",
    "\n",
    "import math\n",
    "import time\n",
    "\n",
    "print(f'Torch version: {torch.__version__}')"
   ]
  },
  {
   "cell_type": "markdown",
   "metadata": {},
   "source": [
    "# Model"
   ]
  },
  {
   "cell_type": "code",
   "execution_count": 3,
   "metadata": {},
   "outputs": [],
   "source": [
    "class TransformerModel(nn.Module):\n",
    "    def __init__(self,\n",
    "                 src_vocab_size: int,\n",
    "                 trg_vocab_size: int,\n",
    "                 d_model: int,\n",
    "                 num_heads: int,\n",
    "                 num_enc_layers: int,\n",
    "                 num_dec_layers: int,\n",
    "                 ffn_size: int,\n",
    "                 dropout: float,\n",
    "                 activation: str):\n",
    "        \n",
    "        super().__init__()\n",
    "        \n",
    "        self.d_model = d_model\n",
    "\n",
    "        #Embeddings\n",
    "        self.enc_embedding = nn.Embedding(num_embeddings = src_vocab_size, \n",
    "                                          embedding_dim = d_model)\n",
    "        self.dec_embedding = nn.Embedding(num_embeddings = trg_vocab_size,\n",
    "                                          embedding_dim = d_model)\n",
    "\n",
    "        \n",
    "        #Positional encoder\n",
    "        self.pos_encoder = PositionalEncoding(d_model, dropout)\n",
    "        \n",
    "        #Custom encoder\n",
    "        #encoder_layer = TransformerEncoderLayer(d_model, num_heads, ffn_size, dropout, activation)\n",
    "        #encoder_norm = nn.LayerNorm(d_model)\n",
    "        #self.encoder = TransformerEncoder(encoder_layer, num_enc_layers, encoder_norm)\n",
    "        \n",
    "        #Custom decoder\n",
    "        #decoder_layer = TransformerDecoderLayer(d_model, num_heads, ffn_size, dropout, activation)\n",
    "        #decoder_norm = nn.LayerNorm(d_model)\n",
    "        #self.decoder = TransformerDecoder(decoder_layer, num_dec_layers, decoder_norm)\n",
    "        \n",
    "        #Transformer\n",
    "        self.transformer = nn.Transformer(d_model = d_model, \n",
    "                                          nhead = num_heads,\n",
    "                                          num_encoder_layers = num_enc_layers,\n",
    "                                          num_decoder_layers = num_dec_layers,\n",
    "                                          dim_feedforward = ffn_size,\n",
    "                                          dropout = dropout,\n",
    "                                          activation = activation,\n",
    "                                          custom_encoder = None, #self.encoder,\n",
    "                                          custom_decoder = None) #self.decoder)\n",
    "        \n",
    "        #Linear layer\n",
    "        self.fc = nn.Linear(d_model, trg_vocab_size)\n",
    "        \n",
    "        #Initialize weights\n",
    "        self.init_weights()\n",
    "    \n",
    "\n",
    "    def generate_square_subsequent_mask(self, sz):\n",
    "        mask = (torch.triu(torch.ones(sz, sz)) == 1).transpose(0, 1)\n",
    "        mask = mask.float().masked_fill(mask == 0, float('-inf')).masked_fill(mask == 1, float(0.0))\n",
    "        return mask\n",
    "\n",
    "\n",
    "    def init_weights(self):\n",
    "        for p in self.parameters():\n",
    "            if p.dim() > 1:\n",
    "                nn.init.xavier_uniform_(p, gain=1.0)\n",
    "        \n",
    "        nn.init.normal_(self.enc_embedding.weight, mean=0.0, std=1.0)\n",
    "        nn.init.normal_(self.dec_embedding.weight, mean=0.0, std=1.0)\n",
    "\n",
    "        \n",
    "    def forward(self, src: torch.tensor, trg: torch.tensor):\n",
    "        trg_mask = self.generate_square_subsequent_mask(len(trg)).to(device)\n",
    "\n",
    "        src = self.enc_embedding(src) * math.sqrt(self.d_model)\n",
    "        src = self.pos_encoder(src)\n",
    "\n",
    "        trg = self.dec_embedding(trg) * math.sqrt(self.d_model)\n",
    "        trg = self.pos_encoder(trg)\n",
    "\n",
    "        output = self.transformer(src, trg, tgt_mask = trg_mask)\n",
    "        #>>output: [trg_len, batch_size, d_model]\n",
    "        output = self.fc(output)\n",
    "        #>>output: [trg_len, batch_size, trg_vocab_size]\n",
    "\n",
    "        return output"
   ]
  },
  {
   "cell_type": "code",
   "execution_count": 4,
   "metadata": {},
   "outputs": [],
   "source": [
    "class PositionalEncoding(nn.Module):\n",
    "\n",
    "    def __init__(self, d_model, dropout=0.1, max_len=5000):\n",
    "        super(PositionalEncoding, self).__init__()\n",
    "        self.dropout = nn.Dropout(p=dropout)\n",
    "\n",
    "        pe = torch.zeros(max_len, d_model)\n",
    "        position = torch.arange(0, max_len, dtype=torch.float).unsqueeze(1)\n",
    "        div_term = torch.exp(torch.arange(0, d_model, 2).float() * (-math.log(10000.0) / d_model))\n",
    "        pe[:, 0::2] = torch.sin(position * div_term)\n",
    "        pe[:, 1::2] = torch.cos(position * div_term)\n",
    "        pe = pe.unsqueeze(0).transpose(0, 1)\n",
    "        self.register_buffer('pe', pe)\n",
    "\n",
    "    def forward(self, x):\n",
    "        x = x + self.pe[:x.size(0), :]\n",
    "        return self.dropout(x)"
   ]
  },
  {
   "cell_type": "markdown",
   "metadata": {},
   "source": [
    "# Train, evaluate and inference functions"
   ]
  },
  {
   "cell_type": "code",
   "execution_count": 5,
   "metadata": {},
   "outputs": [],
   "source": [
    "def train(model: nn.Module,\n",
    "          iterator: BucketIterator,\n",
    "          optimizer: optim.Optimizer,\n",
    "          criterion: nn.Module,\n",
    "          clip_value: float):\n",
    "    \n",
    "    model.train()\n",
    "\n",
    "    loss_sum = 0\n",
    "\n",
    "    for i, batch in enumerate(iterator):\n",
    "        src = batch.src.to(device)\n",
    "        trg = batch.trg.to(device)\n",
    "        #>>src: [src_len, batch_size]\n",
    "        #>>trg: [trg_len, batch_size]\n",
    "\n",
    "        output = model(src = src, trg = trg[:-1,:])\n",
    "        #>>output: [trg_len-1, batch_size, trg_vocab_size]\n",
    "        \n",
    "        loss =  criterion(output.view(-1, output.shape[2]), trg[1:,:].view(-1))\n",
    "\n",
    "        optimizer.zero_grad()\n",
    "        loss.backward()\n",
    "        torch.nn.utils.clip_grad_norm_(model.parameters(), clip_value)\n",
    "        optimizer.step()\n",
    "        \n",
    "        loss_sum += loss.item()\n",
    "\n",
    "    epoch_loss = loss_sum / len(iterator)\n",
    "    return epoch_loss"
   ]
  },
  {
   "cell_type": "code",
   "execution_count": 6,
   "metadata": {},
   "outputs": [],
   "source": [
    "def evaluate(model: nn.Module,\n",
    "             iterator: BucketIterator,\n",
    "             criterion: nn.Module):\n",
    "    \n",
    "    model.eval()\n",
    "    \n",
    "    loss_sum = 0\n",
    "    \n",
    "    with torch.no_grad():\n",
    "        for i, batch in enumerate(iterator):\n",
    "            src = batch.src.to(device)\n",
    "            trg = batch.trg.to(device)\n",
    "            #>>src: [src_len, batch_size]\n",
    "            #>>trg: [trg_len, batch_size]\n",
    "\n",
    "            src = src.to(device)\n",
    "            trg = trg.to(device)\n",
    "\n",
    "            output = model(src = src, trg = trg[:-1,:])\n",
    "            #>>output: [trg_len-1, batch_size, trg_vocab_size]\n",
    "\n",
    "            loss =  criterion(output.view(-1, output.shape[2]), trg[1:,:].view(-1))\n",
    "\n",
    "            loss_sum += loss.item()\n",
    "\n",
    "        epoch_loss = loss_sum / len(iterator)\n",
    "    return epoch_loss"
   ]
  },
  {
   "cell_type": "code",
   "execution_count": 7,
   "metadata": {},
   "outputs": [],
   "source": [
    "def inference(src: torch.tensor,\n",
    "              model: nn.Module,\n",
    "              max_len: int):\n",
    "    \"\"\"\n",
    "    \"\"\"\n",
    "    \n",
    "    model.eval()\n",
    "    with torch.no_grad():\n",
    "        #>>src: [src_len, batch_size]\n",
    "        src = src.to(device)\n",
    "        src = model.enc_embedding(src) * math.sqrt(model.d_model)\n",
    "        #>>src: [src_len-1, batch_size]\n",
    "        src = model.pos_encoder(src)\n",
    "        memory = model.transformer.encoder(src)\n",
    "        #>>memory: [src_len-1, batch_size, d_model]\n",
    "\n",
    "        preds = torch.LongTensor([TRG.vocab.stoi['<sos>']]*src.shape[1]).reshape(1,src.shape[1]).to(device)\n",
    "        #>>preds: [preds_len = 1, batch_size]\n",
    "        for i in range(1, max_len):\n",
    "            trg = preds\n",
    "            trg_mask = model.generate_square_subsequent_mask(len(trg)).to(device)\n",
    "            output = model.dec_embedding(trg) * math.sqrt(model.d_model)\n",
    "            output = model.pos_encoder(output)\n",
    "            output = model.transformer.decoder(output, memory, tgt_mask = trg_mask)\n",
    "            #>>output: [trg_len = i, batch_size, d_model]\n",
    "            output = model.fc(output)\n",
    "            #>>output: [trg_len = i, batch_size, trg_vocab_size]\n",
    "            pred = torch.argmax(output[-1,:,:], dim = -1).unsqueeze(0)\n",
    "            #>>preds: [trg_len = 1, batch_size]\n",
    "            preds = torch.cat((preds, pred), 0)\n",
    "            #>>preds: [preds_len = i+1, batch_size]\n",
    "        #>>preds: [preds_len = max_len, batch_size]\n",
    "    return preds"
   ]
  },
  {
   "cell_type": "code",
   "execution_count": 8,
   "metadata": {},
   "outputs": [],
   "source": [
    "def count_parameters(model: nn.Module):\n",
    "    return sum(p.numel() for p in model.parameters() if p.requires_grad)"
   ]
  },
  {
   "cell_type": "code",
   "execution_count": 9,
   "metadata": {},
   "outputs": [],
   "source": [
    "def epoch_time(start_time: int, end_time: int):\n",
    "    elapsed_time = end_time - start_time\n",
    "    elapsed_mins = int(elapsed_time / 60)\n",
    "    elapsed_secs = int(elapsed_time - (elapsed_mins * 60))\n",
    "    return elapsed_mins, elapsed_secs"
   ]
  },
  {
   "cell_type": "markdown",
   "metadata": {},
   "source": [
    "# Run the experiment"
   ]
  },
  {
   "cell_type": "code",
   "execution_count": 10,
   "metadata": {},
   "outputs": [],
   "source": [
    "# Hyperparameters\n",
    "tutorial_name = 'nmt_transformer_multik30'\n",
    "\n",
    "BATCH_SIZE = 32\n",
    "NUM_EPOCHS = 30\n",
    "\n",
    "LR = 0.001\n",
    "CLIP_VALUE = 1\n",
    "\n",
    "D_MODEL = 128       #in the original paper 512\n",
    "NUM_HEADS = 2       #in the original paper 8\n",
    "NUM_ENC_LAYERS = 2  #in the original paper 6 \n",
    "NUM_DEC_LAYERS = 2  #in the original paper 6\n",
    "FFN_SIZE = 1024     #in the original paper 2048\n",
    "DROPOUT_PROB = 0.2  #in the original paper 0.1"
   ]
  },
  {
   "cell_type": "code",
   "execution_count": 11,
   "metadata": {},
   "outputs": [
    {
     "output_type": "stream",
     "name": "stdout",
     "text": "Device: cuda\n"
    }
   ],
   "source": [
    "# Device configuration\n",
    "device = 'cuda' if torch.cuda.is_available() else 'cpu'\n",
    "print(f'Device: {device}')"
   ]
  },
  {
   "cell_type": "code",
   "execution_count": 12,
   "metadata": {},
   "outputs": [],
   "source": [
    "# Fields\n",
    "SRC = Field(tokenize = \"spacy\",\n",
    "            tokenizer_language=\"de\",\n",
    "            sequential = True,\n",
    "            use_vocab = True,\n",
    "            init_token = None, \n",
    "            eos_token = '<eos>',\n",
    "            fix_length = None,\n",
    "            dtype = torch.long,\n",
    "            lower = True,\n",
    "            include_lengths = False,\n",
    "            batch_first = False,\n",
    "            pad_token = \"<pad>\",\n",
    "            unk_token = \"<unk>\")\n",
    "\n",
    "TRG = Field(tokenize = \"spacy\",\n",
    "            tokenizer_language=\"en\",\n",
    "            sequential = True,\n",
    "            use_vocab = True,\n",
    "            init_token = '<sos>', \n",
    "            eos_token = '<eos>',\n",
    "            fix_length = None,\n",
    "            dtype = torch.long,\n",
    "            lower = True,\n",
    "            include_lengths = False,\n",
    "            batch_first = False,\n",
    "            pad_token = \"<pad>\",\n",
    "            unk_token = \"<unk>\")\n",
    "\n",
    "fields = [('src', SRC), ('trg', TRG)]"
   ]
  },
  {
   "cell_type": "code",
   "execution_count": 13,
   "metadata": {},
   "outputs": [
    {
     "output_type": "stream",
     "name": "stdout",
     "text": "train_data size: 29000\ndev_data size: 1014\ntest_data size: 1000\n"
    }
   ],
   "source": [
    "# Load dataset\n",
    "train_data, dev_data, test_data = Multi30k.splits(exts = ('.de', '.en'),\n",
    "                                                  fields = fields)\n",
    "\n",
    "print(f'train_data size: {len(train_data)}')\n",
    "print(f'dev_data size: {len(dev_data)}')\n",
    "print(f'test_data size: {len(test_data)}')"
   ]
  },
  {
   "cell_type": "code",
   "execution_count": 14,
   "metadata": {},
   "outputs": [
    {
     "output_type": "stream",
     "name": "stdout",
     "text": "src_vocab_size: 7854\ntrg_vocab_size: 5893\n"
    }
   ],
   "source": [
    "# Vocabulary\n",
    "SRC.build_vocab(train_data,\n",
    "                max_size = None,\n",
    "                min_freq = 2,\n",
    "                vectors = None)\n",
    "\n",
    "TRG.build_vocab(train_data,\n",
    "                max_size = None,\n",
    "                min_freq = 2,\n",
    "                vectors = None)\n",
    "\n",
    "print(f'src_vocab_size: {len(SRC.vocab)}')\n",
    "print(f'trg_vocab_size: {len(TRG.vocab)}')"
   ]
  },
  {
   "cell_type": "code",
   "execution_count": 15,
   "metadata": {},
   "outputs": [],
   "source": [
    "# Iterators\n",
    "iterators = BucketIterator.splits((train_data, dev_data, test_data),\n",
    "                                    batch_size = BATCH_SIZE,\n",
    "                                    sort_key = lambda x: len(x.src),\n",
    "                                    device = None,\n",
    "                                    shuffle = True)\n",
    "train_iterator, dev_iterator, test_iterator = iterators"
   ]
  },
  {
   "cell_type": "code",
   "execution_count": 16,
   "metadata": {
    "scrolled": true
   },
   "outputs": [
    {
     "output_type": "stream",
     "name": "stdout",
     "text": "TransformerModel(\n  (enc_embedding): Embedding(7854, 128)\n  (dec_embedding): Embedding(5893, 128)\n  (pos_encoder): PositionalEncoding(\n    (dropout): Dropout(p=0.2, inplace=False)\n  )\n  (transformer): Transformer(\n    (encoder): TransformerEncoder(\n      (layers): ModuleList(\n        (0): TransformerEncoderLayer(\n          (self_attn): MultiheadAttention(\n            (out_proj): Linear(in_features=128, out_features=128, bias=True)\n          )\n          (linear1): Linear(in_features=128, out_features=1024, bias=True)\n          (dropout): Dropout(p=0.2, inplace=False)\n          (linear2): Linear(in_features=1024, out_features=128, bias=True)\n          (norm1): LayerNorm((128,), eps=1e-05, elementwise_affine=True)\n          (norm2): LayerNorm((128,), eps=1e-05, elementwise_affine=True)\n          (dropout1): Dropout(p=0.2, inplace=False)\n          (dropout2): Dropout(p=0.2, inplace=False)\n        )\n        (1): TransformerEncoderLayer(\n          (self_attn): MultiheadAttention(\n            (out_proj): Linear(in_features=128, out_features=128, bias=True)\n          )\n          (linear1): Linear(in_features=128, out_features=1024, bias=True)\n          (dropout): Dropout(p=0.2, inplace=False)\n          (linear2): Linear(in_features=1024, out_features=128, bias=True)\n          (norm1): LayerNorm((128,), eps=1e-05, elementwise_affine=True)\n          (norm2): LayerNorm((128,), eps=1e-05, elementwise_affine=True)\n          (dropout1): Dropout(p=0.2, inplace=False)\n          (dropout2): Dropout(p=0.2, inplace=False)\n        )\n      )\n      (norm): LayerNorm((128,), eps=1e-05, elementwise_affine=True)\n    )\n    (decoder): TransformerDecoder(\n      (layers): ModuleList(\n        (0): TransformerDecoderLayer(\n          (self_attn): MultiheadAttention(\n            (out_proj): Linear(in_features=128, out_features=128, bias=True)\n          )\n          (multihead_attn): MultiheadAttention(\n            (out_proj): Linear(in_features=128, out_features=128, bias=True)\n          )\n          (linear1): Linear(in_features=128, out_features=1024, bias=True)\n          (dropout): Dropout(p=0.2, inplace=False)\n          (linear2): Linear(in_features=1024, out_features=128, bias=True)\n          (norm1): LayerNorm((128,), eps=1e-05, elementwise_affine=True)\n          (norm2): LayerNorm((128,), eps=1e-05, elementwise_affine=True)\n          (norm3): LayerNorm((128,), eps=1e-05, elementwise_affine=True)\n          (dropout1): Dropout(p=0.2, inplace=False)\n          (dropout2): Dropout(p=0.2, inplace=False)\n          (dropout3): Dropout(p=0.2, inplace=False)\n        )\n        (1): TransformerDecoderLayer(\n          (self_attn): MultiheadAttention(\n            (out_proj): Linear(in_features=128, out_features=128, bias=True)\n          )\n          (multihead_attn): MultiheadAttention(\n            (out_proj): Linear(in_features=128, out_features=128, bias=True)\n          )\n          (linear1): Linear(in_features=128, out_features=1024, bias=True)\n          (dropout): Dropout(p=0.2, inplace=False)\n          (linear2): Linear(in_features=1024, out_features=128, bias=True)\n          (norm1): LayerNorm((128,), eps=1e-05, elementwise_affine=True)\n          (norm2): LayerNorm((128,), eps=1e-05, elementwise_affine=True)\n          (norm3): LayerNorm((128,), eps=1e-05, elementwise_affine=True)\n          (dropout1): Dropout(p=0.2, inplace=False)\n          (dropout2): Dropout(p=0.2, inplace=False)\n          (dropout3): Dropout(p=0.2, inplace=False)\n        )\n      )\n      (norm): LayerNorm((128,), eps=1e-05, elementwise_affine=True)\n    )\n  )\n  (fc): Linear(in_features=128, out_features=5893, bias=True)\n)\n"
    }
   ],
   "source": [
    "# Initialize the model\n",
    "model = TransformerModel(src_vocab_size = len(SRC.vocab),\n",
    "                         trg_vocab_size = len(TRG.vocab),\n",
    "                         d_model = D_MODEL,\n",
    "                         num_heads = NUM_HEADS,\n",
    "                         num_enc_layers = NUM_ENC_LAYERS,\n",
    "                         num_dec_layers = NUM_DEC_LAYERS,\n",
    "                         ffn_size = FFN_SIZE,\n",
    "                         dropout = DROPOUT_PROB,\n",
    "                         activation = 'relu')\n",
    "\n",
    "model = model.to(device)\n",
    "print(model)"
   ]
  },
  {
   "cell_type": "code",
   "execution_count": 17,
   "metadata": {},
   "outputs": [
    {
     "output_type": "stream",
     "name": "stdout",
     "text": "\nnum_parameters: 3972357\n"
    }
   ],
   "source": [
    "#Parameters\n",
    "num_parameters = count_parameters(model)\n",
    "print(f'\\nnum_parameters: {num_parameters}')"
   ]
  },
  {
   "cell_type": "code",
   "execution_count": 18,
   "metadata": {},
   "outputs": [],
   "source": [
    "#Loss: CrossEntropyLoss calculates both nn.LogSoftmax() and nn.NLLLoss()\n",
    "PAD_IDX = TRG.vocab.stoi['<pad>']\n",
    "criterion = nn.CrossEntropyLoss(ignore_index=PAD_IDX)"
   ]
  },
  {
   "cell_type": "code",
   "execution_count": 19,
   "metadata": {},
   "outputs": [],
   "source": [
    "#Optimizer\n",
    "optimizer = optim.Adam(params = model.parameters(), lr = LR)"
   ]
  },
  {
   "cell_type": "code",
   "execution_count": 20,
   "metadata": {
    "scrolled": true
   },
   "outputs": [
    {
     "output_type": "stream",
     "name": "stdout",
     "text": "\nTraining:\n--------------------------------------------------------------------------------\nEpoch: 001 | Time: 0m 29s | Train loss: 4.1326 | Dev loss: 3.4552\n--------------------------------------------------------------------------------\nEpoch: 002 | Time: 0m 31s | Train loss: 3.4236 | Dev loss: 3.1261\n--------------------------------------------------------------------------------\nEpoch: 003 | Time: 0m 31s | Train loss: 3.0916 | Dev loss: 2.7982\n--------------------------------------------------------------------------------\nEpoch: 004 | Time: 0m 31s | Train loss: 2.8564 | Dev loss: 2.6452\n--------------------------------------------------------------------------------\nEpoch: 005 | Time: 0m 32s | Train loss: 2.6786 | Dev loss: 2.4854\n--------------------------------------------------------------------------------\nEpoch: 006 | Time: 0m 32s | Train loss: 2.5443 | Dev loss: 2.4213\n--------------------------------------------------------------------------------\nEpoch: 007 | Time: 0m 31s | Train loss: 2.4375 | Dev loss: 2.3645\n--------------------------------------------------------------------------------\nEpoch: 008 | Time: 0m 31s | Train loss: 2.3505 | Dev loss: 2.2903\n--------------------------------------------------------------------------------\nEpoch: 009 | Time: 0m 31s | Train loss: 2.2755 | Dev loss: 2.2573\n--------------------------------------------------------------------------------\nEpoch: 010 | Time: 0m 32s | Train loss: 2.2150 | Dev loss: 2.2358\n--------------------------------------------------------------------------------\nEpoch: 011 | Time: 0m 32s | Train loss: 2.1573 | Dev loss: 2.2037\n--------------------------------------------------------------------------------\nEpoch: 012 | Time: 0m 32s | Train loss: 2.1079 | Dev loss: 2.1671\n--------------------------------------------------------------------------------\nEpoch: 013 | Time: 0m 32s | Train loss: 2.0672 | Dev loss: 2.1517\n--------------------------------------------------------------------------------\nEpoch: 014 | Time: 0m 31s | Train loss: 2.0224 | Dev loss: 2.1330\n--------------------------------------------------------------------------------\nEpoch: 015 | Time: 0m 33s | Train loss: 1.9882 | Dev loss: 2.1554\n--------------------------------------------------------------------------------\nEpoch: 016 | Time: 0m 32s | Train loss: 1.9566 | Dev loss: 2.1390\n--------------------------------------------------------------------------------\nEpoch: 017 | Time: 0m 32s | Train loss: 1.9258 | Dev loss: 2.1229\n--------------------------------------------------------------------------------\nEpoch: 018 | Time: 0m 32s | Train loss: 1.8974 | Dev loss: 2.1103\n--------------------------------------------------------------------------------\nEpoch: 019 | Time: 0m 32s | Train loss: 1.8740 | Dev loss: 2.1066\n--------------------------------------------------------------------------------\nEpoch: 020 | Time: 0m 32s | Train loss: 1.8494 | Dev loss: 2.0707\n--------------------------------------------------------------------------------\nEpoch: 021 | Time: 0m 32s | Train loss: 1.8263 | Dev loss: 2.0792\n--------------------------------------------------------------------------------\nEpoch: 022 | Time: 0m 33s | Train loss: 1.8021 | Dev loss: 2.0788\n--------------------------------------------------------------------------------\nEpoch: 023 | Time: 0m 32s | Train loss: 1.7834 | Dev loss: 2.0768\n--------------------------------------------------------------------------------\nEpoch: 024 | Time: 0m 32s | Train loss: 1.7643 | Dev loss: 2.0939\n--------------------------------------------------------------------------------\nEpoch: 025 | Time: 0m 32s | Train loss: 1.7469 | Dev loss: 2.0823\n--------------------------------------------------------------------------------\nEpoch: 026 | Time: 0m 32s | Train loss: 1.7299 | Dev loss: 2.0565\n--------------------------------------------------------------------------------\nEpoch: 027 | Time: 0m 32s | Train loss: 1.7129 | Dev loss: 2.0597\n--------------------------------------------------------------------------------\nEpoch: 028 | Time: 0m 32s | Train loss: 1.6949 | Dev loss: 2.0570\n--------------------------------------------------------------------------------\nEpoch: 029 | Time: 0m 32s | Train loss: 1.6832 | Dev loss: 2.0309\n--------------------------------------------------------------------------------\nEpoch: 030 | Time: 0m 32s | Train loss: 1.6690 | Dev loss: 2.0307\n"
    }
   ],
   "source": [
    "# Training loop\n",
    "print('\\nTraining:')\n",
    "\n",
    "history = {\"train\": {\"loss\": [], \"acc\": []}, \"dev\": {\"loss\": [], \"acc\": []}}\n",
    "best_dev_loss = float('inf')\n",
    "\n",
    "for epoch in range(NUM_EPOCHS):\n",
    "    \n",
    "    start_time = time.time()\n",
    "\n",
    "    train_loss = train(model = model,\n",
    "                       iterator = train_iterator,\n",
    "                       optimizer = optimizer,\n",
    "                       criterion =  criterion,\n",
    "                       clip_value = CLIP_VALUE)\n",
    "  \n",
    "    dev_loss = evaluate(model = model,\n",
    "                        iterator = dev_iterator,\n",
    "                        criterion =  criterion)\n",
    "    \n",
    "    history[\"train\"][\"loss\"].append(train_loss)\n",
    "    history[\"dev\"][\"loss\"].append(dev_loss)\n",
    "\n",
    "    end_time = time.time()\n",
    "    epoch_mins, epoch_secs = epoch_time(start_time, end_time)\n",
    "\n",
    "    if dev_loss < best_dev_loss:\n",
    "        best_dev_loss = dev_loss\n",
    "        torch.save(model.state_dict(), '../saved_models/'+tutorial_name+'.pt')\n",
    "    \n",
    "    #if epoch+1 == 1 or (epoch+1) % 10 == 0:\n",
    "    print('-' * 80)\n",
    "    print(f'Epoch: {epoch+1:03} | Time: {epoch_mins}m {epoch_secs}s | Train loss: {train_loss:.4f} | Dev loss: {dev_loss:.4f}')"
   ]
  },
  {
   "cell_type": "markdown",
   "metadata": {},
   "source": [
    "# Learning curves"
   ]
  },
  {
   "cell_type": "code",
   "execution_count": 21,
   "metadata": {},
   "outputs": [
    {
     "output_type": "display_data",
     "data": {
      "text/plain": "<Figure size 1080x576 with 1 Axes>",
      "image/svg+xml": "<?xml version=\"1.0\" encoding=\"utf-8\" standalone=\"no\"?>\n<!DOCTYPE svg PUBLIC \"-//W3C//DTD SVG 1.1//EN\"\n  \"http://www.w3.org/Graphics/SVG/1.1/DTD/svg11.dtd\">\n<!-- Created with matplotlib (https://matplotlib.org/) -->\n<svg height=\"494.754375pt\" version=\"1.1\" viewBox=\"0 0 887.98125 494.754375\" width=\"887.98125pt\" xmlns=\"http://www.w3.org/2000/svg\" xmlns:xlink=\"http://www.w3.org/1999/xlink\">\n <defs>\n  <style type=\"text/css\">\n*{stroke-linecap:butt;stroke-linejoin:round;}\n  </style>\n </defs>\n <g id=\"figure_1\">\n  <g id=\"patch_1\">\n   <path d=\"M 0 494.754375 \nL 887.98125 494.754375 \nL 887.98125 0 \nL 0 0 \nz\n\" style=\"fill:none;\"/>\n  </g>\n  <g id=\"axes_1\">\n   <g id=\"patch_2\">\n    <path d=\"M 43.78125 457.198125 \nL 880.78125 457.198125 \nL 880.78125 22.318125 \nL 43.78125 22.318125 \nz\n\" style=\"fill:#ffffff;\"/>\n   </g>\n   <g id=\"matplotlib.axis_1\">\n    <g id=\"xtick_1\">\n     <g id=\"line2d_1\">\n      <path clip-path=\"url(#p4b8def21eb)\" d=\"M 81.826705 457.198125 \nL 81.826705 22.318125 \n\" style=\"fill:none;stroke:#b0b0b0;stroke-linecap:square;stroke-width:0.8;\"/>\n     </g>\n     <g id=\"line2d_2\">\n      <defs>\n       <path d=\"M 0 0 \nL 0 3.5 \n\" id=\"m2c3b0bdb09\" style=\"stroke:#000000;stroke-width:0.8;\"/>\n      </defs>\n      <g>\n       <use style=\"stroke:#000000;stroke-width:0.8;\" x=\"81.826705\" xlink:href=\"#m2c3b0bdb09\" y=\"457.198125\"/>\n      </g>\n     </g>\n     <g id=\"text_1\">\n      <!-- 0 -->\n      <defs>\n       <path d=\"M 31.78125 66.40625 \nQ 24.171875 66.40625 20.328125 58.90625 \nQ 16.5 51.421875 16.5 36.375 \nQ 16.5 21.390625 20.328125 13.890625 \nQ 24.171875 6.390625 31.78125 6.390625 \nQ 39.453125 6.390625 43.28125 13.890625 \nQ 47.125 21.390625 47.125 36.375 \nQ 47.125 51.421875 43.28125 58.90625 \nQ 39.453125 66.40625 31.78125 66.40625 \nz\nM 31.78125 74.21875 \nQ 44.046875 74.21875 50.515625 64.515625 \nQ 56.984375 54.828125 56.984375 36.375 \nQ 56.984375 17.96875 50.515625 8.265625 \nQ 44.046875 -1.421875 31.78125 -1.421875 \nQ 19.53125 -1.421875 13.0625 8.265625 \nQ 6.59375 17.96875 6.59375 36.375 \nQ 6.59375 54.828125 13.0625 64.515625 \nQ 19.53125 74.21875 31.78125 74.21875 \nz\n\" id=\"DejaVuSans-48\"/>\n      </defs>\n      <g transform=\"translate(78.645455 471.796562)scale(0.1 -0.1)\">\n       <use xlink:href=\"#DejaVuSans-48\"/>\n      </g>\n     </g>\n    </g>\n    <g id=\"xtick_2\">\n     <g id=\"line2d_3\">\n      <path clip-path=\"url(#p4b8def21eb)\" d=\"M 213.017927 457.198125 \nL 213.017927 22.318125 \n\" style=\"fill:none;stroke:#b0b0b0;stroke-linecap:square;stroke-width:0.8;\"/>\n     </g>\n     <g id=\"line2d_4\">\n      <g>\n       <use style=\"stroke:#000000;stroke-width:0.8;\" x=\"213.017927\" xlink:href=\"#m2c3b0bdb09\" y=\"457.198125\"/>\n      </g>\n     </g>\n     <g id=\"text_2\">\n      <!-- 5 -->\n      <defs>\n       <path d=\"M 10.796875 72.90625 \nL 49.515625 72.90625 \nL 49.515625 64.59375 \nL 19.828125 64.59375 \nL 19.828125 46.734375 \nQ 21.96875 47.46875 24.109375 47.828125 \nQ 26.265625 48.1875 28.421875 48.1875 \nQ 40.625 48.1875 47.75 41.5 \nQ 54.890625 34.8125 54.890625 23.390625 \nQ 54.890625 11.625 47.5625 5.09375 \nQ 40.234375 -1.421875 26.90625 -1.421875 \nQ 22.3125 -1.421875 17.546875 -0.640625 \nQ 12.796875 0.140625 7.71875 1.703125 \nL 7.71875 11.625 \nQ 12.109375 9.234375 16.796875 8.0625 \nQ 21.484375 6.890625 26.703125 6.890625 \nQ 35.15625 6.890625 40.078125 11.328125 \nQ 45.015625 15.765625 45.015625 23.390625 \nQ 45.015625 31 40.078125 35.4375 \nQ 35.15625 39.890625 26.703125 39.890625 \nQ 22.75 39.890625 18.8125 39.015625 \nQ 14.890625 38.140625 10.796875 36.28125 \nz\n\" id=\"DejaVuSans-53\"/>\n      </defs>\n      <g transform=\"translate(209.836677 471.796562)scale(0.1 -0.1)\">\n       <use xlink:href=\"#DejaVuSans-53\"/>\n      </g>\n     </g>\n    </g>\n    <g id=\"xtick_3\">\n     <g id=\"line2d_5\">\n      <path clip-path=\"url(#p4b8def21eb)\" d=\"M 344.20915 457.198125 \nL 344.20915 22.318125 \n\" style=\"fill:none;stroke:#b0b0b0;stroke-linecap:square;stroke-width:0.8;\"/>\n     </g>\n     <g id=\"line2d_6\">\n      <g>\n       <use style=\"stroke:#000000;stroke-width:0.8;\" x=\"344.20915\" xlink:href=\"#m2c3b0bdb09\" y=\"457.198125\"/>\n      </g>\n     </g>\n     <g id=\"text_3\">\n      <!-- 10 -->\n      <defs>\n       <path d=\"M 12.40625 8.296875 \nL 28.515625 8.296875 \nL 28.515625 63.921875 \nL 10.984375 60.40625 \nL 10.984375 69.390625 \nL 28.421875 72.90625 \nL 38.28125 72.90625 \nL 38.28125 8.296875 \nL 54.390625 8.296875 \nL 54.390625 0 \nL 12.40625 0 \nz\n\" id=\"DejaVuSans-49\"/>\n      </defs>\n      <g transform=\"translate(337.84665 471.796562)scale(0.1 -0.1)\">\n       <use xlink:href=\"#DejaVuSans-49\"/>\n       <use x=\"63.623047\" xlink:href=\"#DejaVuSans-48\"/>\n      </g>\n     </g>\n    </g>\n    <g id=\"xtick_4\">\n     <g id=\"line2d_7\">\n      <path clip-path=\"url(#p4b8def21eb)\" d=\"M 475.400372 457.198125 \nL 475.400372 22.318125 \n\" style=\"fill:none;stroke:#b0b0b0;stroke-linecap:square;stroke-width:0.8;\"/>\n     </g>\n     <g id=\"line2d_8\">\n      <g>\n       <use style=\"stroke:#000000;stroke-width:0.8;\" x=\"475.400372\" xlink:href=\"#m2c3b0bdb09\" y=\"457.198125\"/>\n      </g>\n     </g>\n     <g id=\"text_4\">\n      <!-- 15 -->\n      <g transform=\"translate(469.037872 471.796562)scale(0.1 -0.1)\">\n       <use xlink:href=\"#DejaVuSans-49\"/>\n       <use x=\"63.623047\" xlink:href=\"#DejaVuSans-53\"/>\n      </g>\n     </g>\n    </g>\n    <g id=\"xtick_5\">\n     <g id=\"line2d_9\">\n      <path clip-path=\"url(#p4b8def21eb)\" d=\"M 606.591595 457.198125 \nL 606.591595 22.318125 \n\" style=\"fill:none;stroke:#b0b0b0;stroke-linecap:square;stroke-width:0.8;\"/>\n     </g>\n     <g id=\"line2d_10\">\n      <g>\n       <use style=\"stroke:#000000;stroke-width:0.8;\" x=\"606.591595\" xlink:href=\"#m2c3b0bdb09\" y=\"457.198125\"/>\n      </g>\n     </g>\n     <g id=\"text_5\">\n      <!-- 20 -->\n      <defs>\n       <path d=\"M 19.1875 8.296875 \nL 53.609375 8.296875 \nL 53.609375 0 \nL 7.328125 0 \nL 7.328125 8.296875 \nQ 12.9375 14.109375 22.625 23.890625 \nQ 32.328125 33.6875 34.8125 36.53125 \nQ 39.546875 41.84375 41.421875 45.53125 \nQ 43.3125 49.21875 43.3125 52.78125 \nQ 43.3125 58.59375 39.234375 62.25 \nQ 35.15625 65.921875 28.609375 65.921875 \nQ 23.96875 65.921875 18.8125 64.3125 \nQ 13.671875 62.703125 7.8125 59.421875 \nL 7.8125 69.390625 \nQ 13.765625 71.78125 18.9375 73 \nQ 24.125 74.21875 28.421875 74.21875 \nQ 39.75 74.21875 46.484375 68.546875 \nQ 53.21875 62.890625 53.21875 53.421875 \nQ 53.21875 48.921875 51.53125 44.890625 \nQ 49.859375 40.875 45.40625 35.40625 \nQ 44.1875 33.984375 37.640625 27.21875 \nQ 31.109375 20.453125 19.1875 8.296875 \nz\n\" id=\"DejaVuSans-50\"/>\n      </defs>\n      <g transform=\"translate(600.229095 471.796562)scale(0.1 -0.1)\">\n       <use xlink:href=\"#DejaVuSans-50\"/>\n       <use x=\"63.623047\" xlink:href=\"#DejaVuSans-48\"/>\n      </g>\n     </g>\n    </g>\n    <g id=\"xtick_6\">\n     <g id=\"line2d_11\">\n      <path clip-path=\"url(#p4b8def21eb)\" d=\"M 737.782817 457.198125 \nL 737.782817 22.318125 \n\" style=\"fill:none;stroke:#b0b0b0;stroke-linecap:square;stroke-width:0.8;\"/>\n     </g>\n     <g id=\"line2d_12\">\n      <g>\n       <use style=\"stroke:#000000;stroke-width:0.8;\" x=\"737.782817\" xlink:href=\"#m2c3b0bdb09\" y=\"457.198125\"/>\n      </g>\n     </g>\n     <g id=\"text_6\">\n      <!-- 25 -->\n      <g transform=\"translate(731.420317 471.796562)scale(0.1 -0.1)\">\n       <use xlink:href=\"#DejaVuSans-50\"/>\n       <use x=\"63.623047\" xlink:href=\"#DejaVuSans-53\"/>\n      </g>\n     </g>\n    </g>\n    <g id=\"xtick_7\">\n     <g id=\"line2d_13\">\n      <path clip-path=\"url(#p4b8def21eb)\" d=\"M 868.97404 457.198125 \nL 868.97404 22.318125 \n\" style=\"fill:none;stroke:#b0b0b0;stroke-linecap:square;stroke-width:0.8;\"/>\n     </g>\n     <g id=\"line2d_14\">\n      <g>\n       <use style=\"stroke:#000000;stroke-width:0.8;\" x=\"868.97404\" xlink:href=\"#m2c3b0bdb09\" y=\"457.198125\"/>\n      </g>\n     </g>\n     <g id=\"text_7\">\n      <!-- 30 -->\n      <defs>\n       <path d=\"M 40.578125 39.3125 \nQ 47.65625 37.796875 51.625 33 \nQ 55.609375 28.21875 55.609375 21.1875 \nQ 55.609375 10.40625 48.1875 4.484375 \nQ 40.765625 -1.421875 27.09375 -1.421875 \nQ 22.515625 -1.421875 17.65625 -0.515625 \nQ 12.796875 0.390625 7.625 2.203125 \nL 7.625 11.71875 \nQ 11.71875 9.328125 16.59375 8.109375 \nQ 21.484375 6.890625 26.8125 6.890625 \nQ 36.078125 6.890625 40.9375 10.546875 \nQ 45.796875 14.203125 45.796875 21.1875 \nQ 45.796875 27.640625 41.28125 31.265625 \nQ 36.765625 34.90625 28.71875 34.90625 \nL 20.21875 34.90625 \nL 20.21875 43.015625 \nL 29.109375 43.015625 \nQ 36.375 43.015625 40.234375 45.921875 \nQ 44.09375 48.828125 44.09375 54.296875 \nQ 44.09375 59.90625 40.109375 62.90625 \nQ 36.140625 65.921875 28.71875 65.921875 \nQ 24.65625 65.921875 20.015625 65.03125 \nQ 15.375 64.15625 9.8125 62.3125 \nL 9.8125 71.09375 \nQ 15.4375 72.65625 20.34375 73.4375 \nQ 25.25 74.21875 29.59375 74.21875 \nQ 40.828125 74.21875 47.359375 69.109375 \nQ 53.90625 64.015625 53.90625 55.328125 \nQ 53.90625 49.265625 50.4375 45.09375 \nQ 46.96875 40.921875 40.578125 39.3125 \nz\n\" id=\"DejaVuSans-51\"/>\n      </defs>\n      <g transform=\"translate(862.61154 471.796562)scale(0.1 -0.1)\">\n       <use xlink:href=\"#DejaVuSans-51\"/>\n       <use x=\"63.623047\" xlink:href=\"#DejaVuSans-48\"/>\n      </g>\n     </g>\n    </g>\n    <g id=\"text_8\">\n     <!-- Epoch -->\n     <defs>\n      <path d=\"M 9.8125 72.90625 \nL 55.90625 72.90625 \nL 55.90625 64.59375 \nL 19.671875 64.59375 \nL 19.671875 43.015625 \nL 54.390625 43.015625 \nL 54.390625 34.71875 \nL 19.671875 34.71875 \nL 19.671875 8.296875 \nL 56.78125 8.296875 \nL 56.78125 0 \nL 9.8125 0 \nz\n\" id=\"DejaVuSans-69\"/>\n      <path d=\"M 18.109375 8.203125 \nL 18.109375 -20.796875 \nL 9.078125 -20.796875 \nL 9.078125 54.6875 \nL 18.109375 54.6875 \nL 18.109375 46.390625 \nQ 20.953125 51.265625 25.265625 53.625 \nQ 29.59375 56 35.59375 56 \nQ 45.5625 56 51.78125 48.09375 \nQ 58.015625 40.1875 58.015625 27.296875 \nQ 58.015625 14.40625 51.78125 6.484375 \nQ 45.5625 -1.421875 35.59375 -1.421875 \nQ 29.59375 -1.421875 25.265625 0.953125 \nQ 20.953125 3.328125 18.109375 8.203125 \nz\nM 48.6875 27.296875 \nQ 48.6875 37.203125 44.609375 42.84375 \nQ 40.53125 48.484375 33.40625 48.484375 \nQ 26.265625 48.484375 22.1875 42.84375 \nQ 18.109375 37.203125 18.109375 27.296875 \nQ 18.109375 17.390625 22.1875 11.75 \nQ 26.265625 6.109375 33.40625 6.109375 \nQ 40.53125 6.109375 44.609375 11.75 \nQ 48.6875 17.390625 48.6875 27.296875 \nz\n\" id=\"DejaVuSans-112\"/>\n      <path d=\"M 30.609375 48.390625 \nQ 23.390625 48.390625 19.1875 42.75 \nQ 14.984375 37.109375 14.984375 27.296875 \nQ 14.984375 17.484375 19.15625 11.84375 \nQ 23.34375 6.203125 30.609375 6.203125 \nQ 37.796875 6.203125 41.984375 11.859375 \nQ 46.1875 17.53125 46.1875 27.296875 \nQ 46.1875 37.015625 41.984375 42.703125 \nQ 37.796875 48.390625 30.609375 48.390625 \nz\nM 30.609375 56 \nQ 42.328125 56 49.015625 48.375 \nQ 55.71875 40.765625 55.71875 27.296875 \nQ 55.71875 13.875 49.015625 6.21875 \nQ 42.328125 -1.421875 30.609375 -1.421875 \nQ 18.84375 -1.421875 12.171875 6.21875 \nQ 5.515625 13.875 5.515625 27.296875 \nQ 5.515625 40.765625 12.171875 48.375 \nQ 18.84375 56 30.609375 56 \nz\n\" id=\"DejaVuSans-111\"/>\n      <path d=\"M 48.78125 52.59375 \nL 48.78125 44.1875 \nQ 44.96875 46.296875 41.140625 47.34375 \nQ 37.3125 48.390625 33.40625 48.390625 \nQ 24.65625 48.390625 19.8125 42.84375 \nQ 14.984375 37.3125 14.984375 27.296875 \nQ 14.984375 17.28125 19.8125 11.734375 \nQ 24.65625 6.203125 33.40625 6.203125 \nQ 37.3125 6.203125 41.140625 7.25 \nQ 44.96875 8.296875 48.78125 10.40625 \nL 48.78125 2.09375 \nQ 45.015625 0.34375 40.984375 -0.53125 \nQ 36.96875 -1.421875 32.421875 -1.421875 \nQ 20.0625 -1.421875 12.78125 6.34375 \nQ 5.515625 14.109375 5.515625 27.296875 \nQ 5.515625 40.671875 12.859375 48.328125 \nQ 20.21875 56 33.015625 56 \nQ 37.15625 56 41.109375 55.140625 \nQ 45.0625 54.296875 48.78125 52.59375 \nz\n\" id=\"DejaVuSans-99\"/>\n      <path d=\"M 54.890625 33.015625 \nL 54.890625 0 \nL 45.90625 0 \nL 45.90625 32.71875 \nQ 45.90625 40.484375 42.875 44.328125 \nQ 39.84375 48.1875 33.796875 48.1875 \nQ 26.515625 48.1875 22.3125 43.546875 \nQ 18.109375 38.921875 18.109375 30.90625 \nL 18.109375 0 \nL 9.078125 0 \nL 9.078125 75.984375 \nL 18.109375 75.984375 \nL 18.109375 46.1875 \nQ 21.34375 51.125 25.703125 53.5625 \nQ 30.078125 56 35.796875 56 \nQ 45.21875 56 50.046875 50.171875 \nQ 54.890625 44.34375 54.890625 33.015625 \nz\n\" id=\"DejaVuSans-104\"/>\n     </defs>\n     <g transform=\"translate(446.970312 485.474687)scale(0.1 -0.1)\">\n      <use xlink:href=\"#DejaVuSans-69\"/>\n      <use x=\"63.183594\" xlink:href=\"#DejaVuSans-112\"/>\n      <use x=\"126.660156\" xlink:href=\"#DejaVuSans-111\"/>\n      <use x=\"187.841797\" xlink:href=\"#DejaVuSans-99\"/>\n      <use x=\"242.822266\" xlink:href=\"#DejaVuSans-104\"/>\n     </g>\n    </g>\n   </g>\n   <g id=\"matplotlib.axis_2\">\n    <g id=\"ytick_1\">\n     <g id=\"line2d_15\">\n      <path clip-path=\"url(#p4b8def21eb)\" d=\"M 43.78125 384.32054 \nL 880.78125 384.32054 \n\" style=\"fill:none;stroke:#b0b0b0;stroke-linecap:square;stroke-width:0.8;\"/>\n     </g>\n     <g id=\"line2d_16\">\n      <defs>\n       <path d=\"M 0 0 \nL -3.5 0 \n\" id=\"m4864e78cda\" style=\"stroke:#000000;stroke-width:0.8;\"/>\n      </defs>\n      <g>\n       <use style=\"stroke:#000000;stroke-width:0.8;\" x=\"43.78125\" xlink:href=\"#m4864e78cda\" y=\"384.32054\"/>\n      </g>\n     </g>\n     <g id=\"text_9\">\n      <!-- 2.0 -->\n      <defs>\n       <path d=\"M 10.6875 12.40625 \nL 21 12.40625 \nL 21 0 \nL 10.6875 0 \nz\n\" id=\"DejaVuSans-46\"/>\n      </defs>\n      <g transform=\"translate(20.878125 388.119759)scale(0.1 -0.1)\">\n       <use xlink:href=\"#DejaVuSans-50\"/>\n       <use x=\"63.623047\" xlink:href=\"#DejaVuSans-46\"/>\n       <use x=\"95.410156\" xlink:href=\"#DejaVuSans-48\"/>\n      </g>\n     </g>\n    </g>\n    <g id=\"ytick_2\">\n     <g id=\"line2d_17\">\n      <path clip-path=\"url(#p4b8def21eb)\" d=\"M 43.78125 304.08216 \nL 880.78125 304.08216 \n\" style=\"fill:none;stroke:#b0b0b0;stroke-linecap:square;stroke-width:0.8;\"/>\n     </g>\n     <g id=\"line2d_18\">\n      <g>\n       <use style=\"stroke:#000000;stroke-width:0.8;\" x=\"43.78125\" xlink:href=\"#m4864e78cda\" y=\"304.08216\"/>\n      </g>\n     </g>\n     <g id=\"text_10\">\n      <!-- 2.5 -->\n      <g transform=\"translate(20.878125 307.881379)scale(0.1 -0.1)\">\n       <use xlink:href=\"#DejaVuSans-50\"/>\n       <use x=\"63.623047\" xlink:href=\"#DejaVuSans-46\"/>\n       <use x=\"95.410156\" xlink:href=\"#DejaVuSans-53\"/>\n      </g>\n     </g>\n    </g>\n    <g id=\"ytick_3\">\n     <g id=\"line2d_19\">\n      <path clip-path=\"url(#p4b8def21eb)\" d=\"M 43.78125 223.843781 \nL 880.78125 223.843781 \n\" style=\"fill:none;stroke:#b0b0b0;stroke-linecap:square;stroke-width:0.8;\"/>\n     </g>\n     <g id=\"line2d_20\">\n      <g>\n       <use style=\"stroke:#000000;stroke-width:0.8;\" x=\"43.78125\" xlink:href=\"#m4864e78cda\" y=\"223.843781\"/>\n      </g>\n     </g>\n     <g id=\"text_11\">\n      <!-- 3.0 -->\n      <g transform=\"translate(20.878125 227.642999)scale(0.1 -0.1)\">\n       <use xlink:href=\"#DejaVuSans-51\"/>\n       <use x=\"63.623047\" xlink:href=\"#DejaVuSans-46\"/>\n       <use x=\"95.410156\" xlink:href=\"#DejaVuSans-48\"/>\n      </g>\n     </g>\n    </g>\n    <g id=\"ytick_4\">\n     <g id=\"line2d_21\">\n      <path clip-path=\"url(#p4b8def21eb)\" d=\"M 43.78125 143.605401 \nL 880.78125 143.605401 \n\" style=\"fill:none;stroke:#b0b0b0;stroke-linecap:square;stroke-width:0.8;\"/>\n     </g>\n     <g id=\"line2d_22\">\n      <g>\n       <use style=\"stroke:#000000;stroke-width:0.8;\" x=\"43.78125\" xlink:href=\"#m4864e78cda\" y=\"143.605401\"/>\n      </g>\n     </g>\n     <g id=\"text_12\">\n      <!-- 3.5 -->\n      <g transform=\"translate(20.878125 147.40462)scale(0.1 -0.1)\">\n       <use xlink:href=\"#DejaVuSans-51\"/>\n       <use x=\"63.623047\" xlink:href=\"#DejaVuSans-46\"/>\n       <use x=\"95.410156\" xlink:href=\"#DejaVuSans-53\"/>\n      </g>\n     </g>\n    </g>\n    <g id=\"ytick_5\">\n     <g id=\"line2d_23\">\n      <path clip-path=\"url(#p4b8def21eb)\" d=\"M 43.78125 63.367021 \nL 880.78125 63.367021 \n\" style=\"fill:none;stroke:#b0b0b0;stroke-linecap:square;stroke-width:0.8;\"/>\n     </g>\n     <g id=\"line2d_24\">\n      <g>\n       <use style=\"stroke:#000000;stroke-width:0.8;\" x=\"43.78125\" xlink:href=\"#m4864e78cda\" y=\"63.367021\"/>\n      </g>\n     </g>\n     <g id=\"text_13\">\n      <!-- 4.0 -->\n      <defs>\n       <path d=\"M 37.796875 64.3125 \nL 12.890625 25.390625 \nL 37.796875 25.390625 \nz\nM 35.203125 72.90625 \nL 47.609375 72.90625 \nL 47.609375 25.390625 \nL 58.015625 25.390625 \nL 58.015625 17.1875 \nL 47.609375 17.1875 \nL 47.609375 0 \nL 37.796875 0 \nL 37.796875 17.1875 \nL 4.890625 17.1875 \nL 4.890625 26.703125 \nz\n\" id=\"DejaVuSans-52\"/>\n      </defs>\n      <g transform=\"translate(20.878125 67.16624)scale(0.1 -0.1)\">\n       <use xlink:href=\"#DejaVuSans-52\"/>\n       <use x=\"63.623047\" xlink:href=\"#DejaVuSans-46\"/>\n       <use x=\"95.410156\" xlink:href=\"#DejaVuSans-48\"/>\n      </g>\n     </g>\n    </g>\n    <g id=\"text_14\">\n     <!-- Value -->\n     <defs>\n      <path d=\"M 28.609375 0 \nL 0.78125 72.90625 \nL 11.078125 72.90625 \nL 34.1875 11.53125 \nL 57.328125 72.90625 \nL 67.578125 72.90625 \nL 39.796875 0 \nz\n\" id=\"DejaVuSans-86\"/>\n      <path d=\"M 34.28125 27.484375 \nQ 23.390625 27.484375 19.1875 25 \nQ 14.984375 22.515625 14.984375 16.5 \nQ 14.984375 11.71875 18.140625 8.90625 \nQ 21.296875 6.109375 26.703125 6.109375 \nQ 34.1875 6.109375 38.703125 11.40625 \nQ 43.21875 16.703125 43.21875 25.484375 \nL 43.21875 27.484375 \nz\nM 52.203125 31.203125 \nL 52.203125 0 \nL 43.21875 0 \nL 43.21875 8.296875 \nQ 40.140625 3.328125 35.546875 0.953125 \nQ 30.953125 -1.421875 24.3125 -1.421875 \nQ 15.921875 -1.421875 10.953125 3.296875 \nQ 6 8.015625 6 15.921875 \nQ 6 25.140625 12.171875 29.828125 \nQ 18.359375 34.515625 30.609375 34.515625 \nL 43.21875 34.515625 \nL 43.21875 35.40625 \nQ 43.21875 41.609375 39.140625 45 \nQ 35.0625 48.390625 27.6875 48.390625 \nQ 23 48.390625 18.546875 47.265625 \nQ 14.109375 46.140625 10.015625 43.890625 \nL 10.015625 52.203125 \nQ 14.9375 54.109375 19.578125 55.046875 \nQ 24.21875 56 28.609375 56 \nQ 40.484375 56 46.34375 49.84375 \nQ 52.203125 43.703125 52.203125 31.203125 \nz\n\" id=\"DejaVuSans-97\"/>\n      <path d=\"M 9.421875 75.984375 \nL 18.40625 75.984375 \nL 18.40625 0 \nL 9.421875 0 \nz\n\" id=\"DejaVuSans-108\"/>\n      <path d=\"M 8.5 21.578125 \nL 8.5 54.6875 \nL 17.484375 54.6875 \nL 17.484375 21.921875 \nQ 17.484375 14.15625 20.5 10.265625 \nQ 23.53125 6.390625 29.59375 6.390625 \nQ 36.859375 6.390625 41.078125 11.03125 \nQ 45.3125 15.671875 45.3125 23.6875 \nL 45.3125 54.6875 \nL 54.296875 54.6875 \nL 54.296875 0 \nL 45.3125 0 \nL 45.3125 8.40625 \nQ 42.046875 3.421875 37.71875 1 \nQ 33.40625 -1.421875 27.6875 -1.421875 \nQ 18.265625 -1.421875 13.375 4.4375 \nQ 8.5 10.296875 8.5 21.578125 \nz\nM 31.109375 56 \nz\n\" id=\"DejaVuSans-117\"/>\n      <path d=\"M 56.203125 29.59375 \nL 56.203125 25.203125 \nL 14.890625 25.203125 \nQ 15.484375 15.921875 20.484375 11.0625 \nQ 25.484375 6.203125 34.421875 6.203125 \nQ 39.59375 6.203125 44.453125 7.46875 \nQ 49.3125 8.734375 54.109375 11.28125 \nL 54.109375 2.78125 \nQ 49.265625 0.734375 44.1875 -0.34375 \nQ 39.109375 -1.421875 33.890625 -1.421875 \nQ 20.796875 -1.421875 13.15625 6.1875 \nQ 5.515625 13.8125 5.515625 26.8125 \nQ 5.515625 40.234375 12.765625 48.109375 \nQ 20.015625 56 32.328125 56 \nQ 43.359375 56 49.78125 48.890625 \nQ 56.203125 41.796875 56.203125 29.59375 \nz\nM 47.21875 32.234375 \nQ 47.125 39.59375 43.09375 43.984375 \nQ 39.0625 48.390625 32.421875 48.390625 \nQ 24.90625 48.390625 20.390625 44.140625 \nQ 15.875 39.890625 15.1875 32.171875 \nz\n\" id=\"DejaVuSans-101\"/>\n     </defs>\n     <g transform=\"translate(14.798438 253.871406)rotate(-90)scale(0.1 -0.1)\">\n      <use xlink:href=\"#DejaVuSans-86\"/>\n      <use x=\"68.298828\" xlink:href=\"#DejaVuSans-97\"/>\n      <use x=\"129.578125\" xlink:href=\"#DejaVuSans-108\"/>\n      <use x=\"157.361328\" xlink:href=\"#DejaVuSans-117\"/>\n      <use x=\"220.740234\" xlink:href=\"#DejaVuSans-101\"/>\n     </g>\n    </g>\n   </g>\n   <g id=\"line2d_25\">\n    <path clip-path=\"url(#p4b8def21eb)\" d=\"M 81.826705 42.085398 \nL 108.064949 155.862559 \nL 134.303194 209.1488 \nL 160.541438 246.885644 \nL 186.779683 275.419759 \nL 213.017927 296.975362 \nL 239.256172 314.109576 \nL 265.494416 328.065855 \nL 291.732661 340.114279 \nL 317.970905 349.813128 \nL 344.20915 359.082933 \nL 370.447394 367.01099 \nL 396.685639 373.536293 \nL 422.923883 380.729755 \nL 449.162128 386.210434 \nL 475.400372 391.284152 \nL 501.638617 396.23563 \nL 527.876861 400.786297 \nL 554.115106 404.534611 \nL 580.35335 408.485147 \nL 606.591595 412.200642 \nL 632.829839 416.079185 \nL 659.068084 419.072018 \nL 685.306328 422.14165 \nL 711.544573 424.943979 \nL 737.782817 427.662551 \nL 764.021062 430.396869 \nL 790.259306 433.289144 \nL 816.497551 435.164604 \nL 842.735795 437.430852 \n\" style=\"fill:none;stroke:#1f77b4;stroke-linecap:square;stroke-width:1.5;\"/>\n   </g>\n   <g id=\"line2d_26\">\n    <path clip-path=\"url(#p4b8def21eb)\" d=\"M 81.826705 150.7958 \nL 108.064949 203.609359 \nL 134.303194 256.220069 \nL 160.541438 280.784537 \nL 186.779683 306.422573 \nL 213.017927 316.715295 \nL 239.256172 325.821042 \nL 265.494416 337.733297 \nL 291.732661 343.022762 \nL 317.970905 346.482793 \nL 344.20915 351.62551 \nL 370.447394 357.500812 \nL 396.685639 359.973364 \nL 422.923883 362.978946 \nL 449.162128 359.387979 \nL 475.400372 362.014759 \nL 501.638617 364.593627 \nL 527.876861 366.617685 \nL 554.115106 367.218051 \nL 580.35335 372.972262 \nL 606.591595 371.618227 \nL 632.829839 371.678018 \nL 659.068084 371.995864 \nL 685.306328 369.249878 \nL 711.544573 371.11811 \nL 737.782817 375.252226 \nL 764.021062 374.74137 \nL 790.259306 375.165423 \nL 816.497551 379.355599 \nL 842.735795 379.395453 \n\" style=\"fill:none;stroke:#ff7f0e;stroke-linecap:square;stroke-width:1.5;\"/>\n   </g>\n   <g id=\"patch_3\">\n    <path d=\"M 43.78125 457.198125 \nL 43.78125 22.318125 \n\" style=\"fill:none;stroke:#000000;stroke-linecap:square;stroke-linejoin:miter;stroke-width:0.8;\"/>\n   </g>\n   <g id=\"patch_4\">\n    <path d=\"M 880.78125 457.198125 \nL 880.78125 22.318125 \n\" style=\"fill:none;stroke:#000000;stroke-linecap:square;stroke-linejoin:miter;stroke-width:0.8;\"/>\n   </g>\n   <g id=\"patch_5\">\n    <path d=\"M 43.78125 457.198125 \nL 880.78125 457.198125 \n\" style=\"fill:none;stroke:#000000;stroke-linecap:square;stroke-linejoin:miter;stroke-width:0.8;\"/>\n   </g>\n   <g id=\"patch_6\">\n    <path d=\"M 43.78125 22.318125 \nL 880.78125 22.318125 \n\" style=\"fill:none;stroke:#000000;stroke-linecap:square;stroke-linejoin:miter;stroke-width:0.8;\"/>\n   </g>\n   <g id=\"text_15\">\n    <!-- Learning curves -->\n    <defs>\n     <path d=\"M 9.8125 72.90625 \nL 19.671875 72.90625 \nL 19.671875 8.296875 \nL 55.171875 8.296875 \nL 55.171875 0 \nL 9.8125 0 \nz\n\" id=\"DejaVuSans-76\"/>\n     <path d=\"M 41.109375 46.296875 \nQ 39.59375 47.171875 37.8125 47.578125 \nQ 36.03125 48 33.890625 48 \nQ 26.265625 48 22.1875 43.046875 \nQ 18.109375 38.09375 18.109375 28.8125 \nL 18.109375 0 \nL 9.078125 0 \nL 9.078125 54.6875 \nL 18.109375 54.6875 \nL 18.109375 46.1875 \nQ 20.953125 51.171875 25.484375 53.578125 \nQ 30.03125 56 36.53125 56 \nQ 37.453125 56 38.578125 55.875 \nQ 39.703125 55.765625 41.0625 55.515625 \nz\n\" id=\"DejaVuSans-114\"/>\n     <path d=\"M 54.890625 33.015625 \nL 54.890625 0 \nL 45.90625 0 \nL 45.90625 32.71875 \nQ 45.90625 40.484375 42.875 44.328125 \nQ 39.84375 48.1875 33.796875 48.1875 \nQ 26.515625 48.1875 22.3125 43.546875 \nQ 18.109375 38.921875 18.109375 30.90625 \nL 18.109375 0 \nL 9.078125 0 \nL 9.078125 54.6875 \nL 18.109375 54.6875 \nL 18.109375 46.1875 \nQ 21.34375 51.125 25.703125 53.5625 \nQ 30.078125 56 35.796875 56 \nQ 45.21875 56 50.046875 50.171875 \nQ 54.890625 44.34375 54.890625 33.015625 \nz\n\" id=\"DejaVuSans-110\"/>\n     <path d=\"M 9.421875 54.6875 \nL 18.40625 54.6875 \nL 18.40625 0 \nL 9.421875 0 \nz\nM 9.421875 75.984375 \nL 18.40625 75.984375 \nL 18.40625 64.59375 \nL 9.421875 64.59375 \nz\n\" id=\"DejaVuSans-105\"/>\n     <path d=\"M 45.40625 27.984375 \nQ 45.40625 37.75 41.375 43.109375 \nQ 37.359375 48.484375 30.078125 48.484375 \nQ 22.859375 48.484375 18.828125 43.109375 \nQ 14.796875 37.75 14.796875 27.984375 \nQ 14.796875 18.265625 18.828125 12.890625 \nQ 22.859375 7.515625 30.078125 7.515625 \nQ 37.359375 7.515625 41.375 12.890625 \nQ 45.40625 18.265625 45.40625 27.984375 \nz\nM 54.390625 6.78125 \nQ 54.390625 -7.171875 48.1875 -13.984375 \nQ 42 -20.796875 29.203125 -20.796875 \nQ 24.46875 -20.796875 20.265625 -20.09375 \nQ 16.0625 -19.390625 12.109375 -17.921875 \nL 12.109375 -9.1875 \nQ 16.0625 -11.328125 19.921875 -12.34375 \nQ 23.78125 -13.375 27.78125 -13.375 \nQ 36.625 -13.375 41.015625 -8.765625 \nQ 45.40625 -4.15625 45.40625 5.171875 \nL 45.40625 9.625 \nQ 42.625 4.78125 38.28125 2.390625 \nQ 33.9375 0 27.875 0 \nQ 17.828125 0 11.671875 7.65625 \nQ 5.515625 15.328125 5.515625 27.984375 \nQ 5.515625 40.671875 11.671875 48.328125 \nQ 17.828125 56 27.875 56 \nQ 33.9375 56 38.28125 53.609375 \nQ 42.625 51.21875 45.40625 46.390625 \nL 45.40625 54.6875 \nL 54.390625 54.6875 \nz\n\" id=\"DejaVuSans-103\"/>\n     <path id=\"DejaVuSans-32\"/>\n     <path d=\"M 2.984375 54.6875 \nL 12.5 54.6875 \nL 29.59375 8.796875 \nL 46.6875 54.6875 \nL 56.203125 54.6875 \nL 35.6875 0 \nL 23.484375 0 \nz\n\" id=\"DejaVuSans-118\"/>\n     <path d=\"M 44.28125 53.078125 \nL 44.28125 44.578125 \nQ 40.484375 46.53125 36.375 47.5 \nQ 32.28125 48.484375 27.875 48.484375 \nQ 21.1875 48.484375 17.84375 46.4375 \nQ 14.5 44.390625 14.5 40.28125 \nQ 14.5 37.15625 16.890625 35.375 \nQ 19.28125 33.59375 26.515625 31.984375 \nL 29.59375 31.296875 \nQ 39.15625 29.25 43.1875 25.515625 \nQ 47.21875 21.78125 47.21875 15.09375 \nQ 47.21875 7.46875 41.1875 3.015625 \nQ 35.15625 -1.421875 24.609375 -1.421875 \nQ 20.21875 -1.421875 15.453125 -0.5625 \nQ 10.6875 0.296875 5.421875 2 \nL 5.421875 11.28125 \nQ 10.40625 8.6875 15.234375 7.390625 \nQ 20.0625 6.109375 24.8125 6.109375 \nQ 31.15625 6.109375 34.5625 8.28125 \nQ 37.984375 10.453125 37.984375 14.40625 \nQ 37.984375 18.0625 35.515625 20.015625 \nQ 33.0625 21.96875 24.703125 23.78125 \nL 21.578125 24.515625 \nQ 13.234375 26.265625 9.515625 29.90625 \nQ 5.8125 33.546875 5.8125 39.890625 \nQ 5.8125 47.609375 11.28125 51.796875 \nQ 16.75 56 26.8125 56 \nQ 31.78125 56 36.171875 55.265625 \nQ 40.578125 54.546875 44.28125 53.078125 \nz\n\" id=\"DejaVuSans-115\"/>\n    </defs>\n    <g transform=\"translate(414.18 16.318125)scale(0.12 -0.12)\">\n     <use xlink:href=\"#DejaVuSans-76\"/>\n     <use x=\"55.697266\" xlink:href=\"#DejaVuSans-101\"/>\n     <use x=\"117.220703\" xlink:href=\"#DejaVuSans-97\"/>\n     <use x=\"178.5\" xlink:href=\"#DejaVuSans-114\"/>\n     <use x=\"219.597656\" xlink:href=\"#DejaVuSans-110\"/>\n     <use x=\"282.976562\" xlink:href=\"#DejaVuSans-105\"/>\n     <use x=\"310.759766\" xlink:href=\"#DejaVuSans-110\"/>\n     <use x=\"374.138672\" xlink:href=\"#DejaVuSans-103\"/>\n     <use x=\"437.615234\" xlink:href=\"#DejaVuSans-32\"/>\n     <use x=\"469.402344\" xlink:href=\"#DejaVuSans-99\"/>\n     <use x=\"524.382812\" xlink:href=\"#DejaVuSans-117\"/>\n     <use x=\"587.761719\" xlink:href=\"#DejaVuSans-114\"/>\n     <use x=\"628.875\" xlink:href=\"#DejaVuSans-118\"/>\n     <use x=\"688.054688\" xlink:href=\"#DejaVuSans-101\"/>\n     <use x=\"749.578125\" xlink:href=\"#DejaVuSans-115\"/>\n    </g>\n   </g>\n   <g id=\"legend_1\">\n    <g id=\"patch_7\">\n     <path d=\"M 793.846875 59.674375 \nL 873.78125 59.674375 \nQ 875.78125 59.674375 875.78125 57.674375 \nL 875.78125 29.318125 \nQ 875.78125 27.318125 873.78125 27.318125 \nL 793.846875 27.318125 \nQ 791.846875 27.318125 791.846875 29.318125 \nL 791.846875 57.674375 \nQ 791.846875 59.674375 793.846875 59.674375 \nz\n\" style=\"fill:#ffffff;opacity:0.8;stroke:#cccccc;stroke-linejoin:miter;\"/>\n    </g>\n    <g id=\"line2d_27\">\n     <path d=\"M 795.846875 35.416562 \nL 815.846875 35.416562 \n\" style=\"fill:none;stroke:#1f77b4;stroke-linecap:square;stroke-width:1.5;\"/>\n    </g>\n    <g id=\"line2d_28\"/>\n    <g id=\"text_16\">\n     <!-- Train loss -->\n     <defs>\n      <path d=\"M -0.296875 72.90625 \nL 61.375 72.90625 \nL 61.375 64.59375 \nL 35.5 64.59375 \nL 35.5 0 \nL 25.59375 0 \nL 25.59375 64.59375 \nL -0.296875 64.59375 \nz\n\" id=\"DejaVuSans-84\"/>\n     </defs>\n     <g transform=\"translate(823.846875 38.916562)scale(0.1 -0.1)\">\n      <use xlink:href=\"#DejaVuSans-84\"/>\n      <use x=\"60.865234\" xlink:href=\"#DejaVuSans-114\"/>\n      <use x=\"101.978516\" xlink:href=\"#DejaVuSans-97\"/>\n      <use x=\"163.257812\" xlink:href=\"#DejaVuSans-105\"/>\n      <use x=\"191.041016\" xlink:href=\"#DejaVuSans-110\"/>\n      <use x=\"254.419922\" xlink:href=\"#DejaVuSans-32\"/>\n      <use x=\"286.207031\" xlink:href=\"#DejaVuSans-108\"/>\n      <use x=\"313.990234\" xlink:href=\"#DejaVuSans-111\"/>\n      <use x=\"375.171875\" xlink:href=\"#DejaVuSans-115\"/>\n      <use x=\"427.271484\" xlink:href=\"#DejaVuSans-115\"/>\n     </g>\n    </g>\n    <g id=\"line2d_29\">\n     <path d=\"M 795.846875 50.094687 \nL 815.846875 50.094687 \n\" style=\"fill:none;stroke:#ff7f0e;stroke-linecap:square;stroke-width:1.5;\"/>\n    </g>\n    <g id=\"line2d_30\"/>\n    <g id=\"text_17\">\n     <!-- Dev loss -->\n     <defs>\n      <path d=\"M 19.671875 64.796875 \nL 19.671875 8.109375 \nL 31.59375 8.109375 \nQ 46.6875 8.109375 53.6875 14.9375 \nQ 60.6875 21.78125 60.6875 36.53125 \nQ 60.6875 51.171875 53.6875 57.984375 \nQ 46.6875 64.796875 31.59375 64.796875 \nz\nM 9.8125 72.90625 \nL 30.078125 72.90625 \nQ 51.265625 72.90625 61.171875 64.09375 \nQ 71.09375 55.28125 71.09375 36.53125 \nQ 71.09375 17.671875 61.125 8.828125 \nQ 51.171875 0 30.078125 0 \nL 9.8125 0 \nz\n\" id=\"DejaVuSans-68\"/>\n     </defs>\n     <g transform=\"translate(823.846875 53.594687)scale(0.1 -0.1)\">\n      <use xlink:href=\"#DejaVuSans-68\"/>\n      <use x=\"77.001953\" xlink:href=\"#DejaVuSans-101\"/>\n      <use x=\"138.525391\" xlink:href=\"#DejaVuSans-118\"/>\n      <use x=\"197.705078\" xlink:href=\"#DejaVuSans-32\"/>\n      <use x=\"229.492188\" xlink:href=\"#DejaVuSans-108\"/>\n      <use x=\"257.275391\" xlink:href=\"#DejaVuSans-111\"/>\n      <use x=\"318.457031\" xlink:href=\"#DejaVuSans-115\"/>\n      <use x=\"370.556641\" xlink:href=\"#DejaVuSans-115\"/>\n     </g>\n    </g>\n   </g>\n  </g>\n </g>\n <defs>\n  <clipPath id=\"p4b8def21eb\">\n   <rect height=\"434.88\" width=\"837\" x=\"43.78125\" y=\"22.318125\"/>\n  </clipPath>\n </defs>\n</svg>\n",
      "image/png": "[encoded data removed]"
     },
     "metadata": {
      "needs_background": "light"
     }
    }
   ],
   "source": [
    "plt.figure(figsize=(15,8))\n",
    "plt.plot(history[\"train\"][\"loss\"], label='Train loss')\n",
    "plt.plot(history[\"dev\"][\"loss\"], label='Dev loss')\n",
    "plt.ylabel('Value')\n",
    "plt.xlabel('Epoch')\n",
    "plt.title('Learning curves')\n",
    "plt.grid(b=True)\n",
    "plt.legend()\n",
    "plt.show()"
   ]
  },
  {
   "cell_type": "code",
   "execution_count": 22,
   "metadata": {},
   "outputs": [
    {
     "output_type": "stream",
     "name": "stdout",
     "text": "min_dev_loss: 2.0306903459131718 , epoch: 30\n"
    }
   ],
   "source": [
    "# Best dev loss\n",
    "min_dev_loss = min(history[\"dev\"][\"loss\"])\n",
    "epoch = np.argmin(history[\"dev\"][\"loss\"])+1\n",
    "print(f'min_dev_loss: {min_dev_loss} , epoch: {epoch}')"
   ]
  },
  {
   "cell_type": "markdown",
   "metadata": {},
   "source": [
    "# Evaluation\n",
    "\n",
    "Evaluate on the test set"
   ]
  },
  {
   "cell_type": "code",
   "execution_count": 23,
   "metadata": {},
   "outputs": [
    {
     "output_type": "stream",
     "name": "stdout",
     "text": "Test loss: 2.0493\n"
    }
   ],
   "source": [
    "model.load_state_dict(torch.load('../saved_models/'+tutorial_name+'.pt'))\n",
    "model = model.to(device)\n",
    "\n",
    "test_loss = evaluate(model = model,\n",
    "                     iterator = test_iterator,\n",
    "                     criterion =  criterion)\n",
    "    \n",
    "print(f'Test loss: {test_loss:.4f}')"
   ]
  },
  {
   "cell_type": "markdown",
   "metadata": {},
   "source": [
    "# Inference\n",
    "\n",
    "Take some test examples and check the trained model's predictions"
   ]
  },
  {
   "cell_type": "code",
   "execution_count": 24,
   "metadata": {},
   "outputs": [],
   "source": [
    "# Load the best model\n",
    "model.load_state_dict(torch.load('../saved_models/'+tutorial_name+'.pt'))\n",
    "model = model.to(device)\n",
    "#print(model)"
   ]
  },
  {
   "cell_type": "code",
   "execution_count": 25,
   "metadata": {},
   "outputs": [],
   "source": [
    "#Take examples from the test data\n",
    "infer_test_iterator = Iterator(test_data,\n",
    "                                 batch_size = 10,\n",
    "                                 sort_key = lambda x: len(x.src),\n",
    "                                 device = device,\n",
    "                                 shuffle = True,\n",
    "                                 sort = False)"
   ]
  },
  {
   "cell_type": "code",
   "execution_count": 26,
   "metadata": {},
   "outputs": [],
   "source": [
    "batch = next(iter(infer_test_iterator))\n",
    "src = batch.src\n",
    "trg = batch.trg\n",
    "#>>src: [src_len, batch_size]\n",
    "#>>trg: [trg_len, batch_size]"
   ]
  },
  {
   "cell_type": "code",
   "execution_count": 27,
   "metadata": {},
   "outputs": [],
   "source": [
    "MAX_LEN = 25\n",
    "preds = inference(src, model, MAX_LEN)\n",
    "#>>preds: [preds_len = max_len, batch_size]"
   ]
  },
  {
   "cell_type": "code",
   "execution_count": 28,
   "metadata": {},
   "outputs": [
    {
     "output_type": "stream",
     "name": "stdout",
     "text": "\nDeutsch (src): ein kind sieht sich <unk> in einem geschäft an . <eos> <pad> <pad> <pad> <pad> <pad> <pad>\nEnglish (trg): <sos> a kid is looking at coffee machines inside a store . <eos> <pad> <pad> <pad> <pad> <pad> <pad>\nEnglish (pre): <sos> a child looking at a store . <eos> store . <eos> store . <eos> store . <eos> store . <eos> . <eos> . <eos>\n\nDeutsch (src): ein hund trinkt draußen wasser auf dem gras . <eos> <pad> <pad> <pad> <pad> <pad> <pad> <pad>\nEnglish (trg): <sos> a dog drinks water outside on the grass . <eos> <pad> <pad> <pad> <pad> <pad> <pad> <pad> <pad>\nEnglish (pre): <sos> a dog is drinking water outside on the grass . <eos> drinking . <eos> . <eos> . <eos> . <eos> . <eos> . <eos>\n\nDeutsch (src): ein mann auf einem motorrad zeigt einen trick auf einer rennstrecke . <eos> <pad> <pad> <pad> <pad>\nEnglish (trg): <sos> a man riding a motorcycle is performing a trick at a track . <eos> <pad> <pad> <pad> <pad>\nEnglish (pre): <sos> a man is demonstrating a motorcycle on a racetrack . <eos> . <eos> . <eos> . <eos> . <eos> . <eos> . <eos> .\n\nDeutsch (src): zwei kleine hunde folgen einem größeren hund mit einem tennisball <eos> <pad> <pad> <pad> <pad> <pad> <pad>\nEnglish (trg): <sos> two small dogs follow a larger dog with a tennis ball <eos> <pad> <pad> <pad> <pad> <pad> <pad>\nEnglish (pre): <sos> two small dogs are following with a tennis ball . <eos> . <eos> . <eos> . <eos> . <eos> . <eos> . <eos> .\n\nDeutsch (src): sechs leute fahren mountainbikes durch eine <unk> . <eos> <pad> <pad> <pad> <pad> <pad> <pad> <pad> <pad>\nEnglish (trg): <sos> six people ride mountain bikes through a jungle environment . <eos> <pad> <pad> <pad> <pad> <pad> <pad> <pad>\nEnglish (pre): <sos> six people are riding a jet ski poles through a mountain . <eos> . <eos> . <eos> . <eos> . <eos> . <eos> .\n\nDeutsch (src): ein mann an einem <unk> geht ins wasser . <eos> <pad> <pad> <pad> <pad> <pad> <pad> <pad>\nEnglish (trg): <sos> a man on a tag line going into the water . <eos> <pad> <pad> <pad> <pad> <pad> <pad>\nEnglish (pre): <sos> a man walking by a <unk> water . <eos> . <eos> . <eos> . <eos> . <eos> . <eos> . <eos> . <eos> .\n\nDeutsch (src): zwei polizisten mittleren alters beobachten nachts einen parkplatz . <eos> <pad> <pad> <pad> <pad> <pad> <pad> <pad>\nEnglish (trg): <sos> two middle - aged police officers watch over a parking lot , at night . <eos> <pad> <pad>\nEnglish (pre): <sos> two middle - aged police officers watch a parking lot . <eos> at night . <eos> . <eos> . <eos> . <eos> . <eos>\n\nDeutsch (src): zwei teenagerinnen umarmen sich vor radfahrern im hintergrund , eine trägt einen fahrradhelm . <eos> <pad> <pad>\nEnglish (trg): <sos> two teenage girls hugging , one wearing a bicycle helmet , with cyclists in the background . <eos>\nEnglish (pre): <sos> two teenage boys hug a bicycle with a bike in the background . <eos> . <eos> . <eos> . <eos> . <eos> . <eos>\n\nDeutsch (src): ein brauner hund watet in einen see , um einen stock zu holen . <eos> <pad> <pad>\nEnglish (trg): <sos> a brown dog wades into a lake to retrieve a stick . <eos> <pad> <pad> <pad> <pad> <pad>\nEnglish (pre): <sos> a brown dog wades in a lake . <eos> . <eos> . <eos> . <eos> . <eos> . <eos> . <eos> . <eos> .\n\nDeutsch (src): ein kleiner junge in einem weiß gestreiften shirt und mit einem stirnband hält einen tennisschläger . <eos>\nEnglish (trg): <sos> young boy in a white striped shirt and headband holding a tennis racket . <eos> <pad> <pad> <pad>\nEnglish (pre): <sos> a little boy in a striped shirt and white headband holds a tennis racket . <eos> . <eos> . <eos> . <eos> . <eos>\n"
    }
   ],
   "source": [
    "for i in range(src.shape[1]):\n",
    "    print(f\"\\nDeutsch (src): {' '.join([SRC.vocab.itos[token] for token in src.permute(1,0)[i]])}\")\n",
    "    print(f\"English (trg): {' '.join([TRG.vocab.itos[token] for token in trg.permute(1,0)[i]])}\")\n",
    "    print(f\"English (pre): {' '.join([TRG.vocab.itos[token] for token in preds.permute(1,0)[i]])}\")"
   ]
  },
  {
   "cell_type": "markdown",
   "metadata": {},
   "source": [
    "# That's it!"
   ]
  }
 ],
 "metadata": {
  "kernelspec": {
   "display_name": "Python 3",
   "language": "python",
   "name": "python3"
  },
  "language_info": {
   "codemirror_mode": {
    "name": "ipython",
    "version": 3
   },
   "file_extension": ".py",
   "mimetype": "text/x-python",
   "name": "python",
   "nbconvert_exporter": "python",
   "pygments_lexer": "ipython3",
   "version": "3.8.1-final"
  }
 },
 "nbformat": 4,
 "nbformat_minor": 4
}