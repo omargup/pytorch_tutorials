{
 "cells": [
  {
   "cell_type": "markdown",
   "metadata": {},
   "source": [
    "# Neural Machine Translation with a transformer model\n",
    "\n",
    "In this tutorial you'll learn how to create and train a transformer model to translate from english to deutsch using the Multi30k dataset.\n",
    "\n",
    "Details:\n",
    "* Framework: PyTorch\n",
    "* Model: Transformer\n",
    "* Packages: Torchtext, SpaCy\n",
    "* Dataset: Multi30k"
   ]
  },
  {
   "cell_type": "markdown",
   "metadata": {},
   "source": [
    "Installs: to run this tutorial, first install TorchText and SpaCy typing the following commands in your environment:\n",
    "\n",
    "```\n",
    "#Upgrade pip\n",
    "pip install --upgrade pip\n",
    "\n",
    "#Install torchtext\n",
    "pip install torchtext\n",
    "\n",
    "#Install spacy\n",
    "conda install spacy # or pip install spacy\n",
    "\n",
    "#Download English and German tokenizers\n",
    "python -m spacy download en\n",
    "python -m spacy download de\n",
    "```"
   ]
  },
  {
   "cell_type": "markdown",
   "metadata": {},
   "source": [
    "# 0. Imports"
   ]
  },
  {
   "cell_type": "code",
   "execution_count": 1,
   "metadata": {},
   "outputs": [
    {
     "name": "stdout",
     "output_type": "stream",
     "text": [
      "Torch version: 1.4.0\n"
     ]
    }
   ],
   "source": [
    "# Imports\n",
    "import torch\n",
    "import torch.nn as nn\n",
    "import torch.optim as optim\n",
    "import torch.nn.functional as F\n",
    "\n",
    "from torch.nn import Transformer, TransformerEncoder, TransformerEncoderLayer, TransformerDecoder, TransformerDecoderLayer\n",
    "\n",
    "from torchtext.datasets import Multi30k\n",
    "from torchtext.data import Field, BucketIterator, Iterator\n",
    "\n",
    "import numpy as np\n",
    "import matplotlib.pyplot as plt\n",
    "\n",
    "import math\n",
    "import time\n",
    "\n",
    "print(f'Torch version: {torch.__version__}')"
   ]
  },
  {
   "cell_type": "markdown",
   "metadata": {},
   "source": [
    "# 1. Model"
   ]
  },
  {
   "cell_type": "code",
   "execution_count": 2,
   "metadata": {},
   "outputs": [],
   "source": [
    "class TransformerModel(nn.Module):\n",
    "    def __init__(self,\n",
    "                 src_vocab_size: int,\n",
    "                 trg_vocab_size: int,\n",
    "                 d_model: int,\n",
    "                 num_heads: int,\n",
    "                 num_enc_layers: int,\n",
    "                 num_dec_layers: int,\n",
    "                 ffn_size: int,\n",
    "                 dropout: float,\n",
    "                 activation: str):\n",
    "        \n",
    "        #super(TransformerModel, self).__init__()\n",
    "        super().__init__()\n",
    "        \n",
    "        self.d_model = d_model\n",
    "\n",
    "        # Embeddings\n",
    "        self.enc_embedding = nn.Embedding(num_embeddings = src_vocab_size, \n",
    "                                          embedding_dim = d_model)\n",
    "        self.dec_embedding = nn.Embedding(num_embeddings = trg_vocab_size,\n",
    "                                          embedding_dim = d_model)\n",
    "        \n",
    "        # Positional encoding\n",
    "        self.pos_encoder = PositionalEncoding(d_model, dropout)\n",
    "        \n",
    "        # Custom encoder\n",
    "        #encoder_layer = TransformerEncoderLayer(d_model, num_heads, ffn_size, dropout, activation)\n",
    "        #encoder_norm = nn.LayerNorm(d_model)\n",
    "        #self.encoder = TransformerEncoder(encoder_layer, num_enc_layers, encoder_norm)\n",
    "        \n",
    "        # Custom decoder\n",
    "        #decoder_layer = TransformerDecoderLayer(d_model, num_heads, ffn_size, dropout, activation)\n",
    "        #decoder_norm = nn.LayerNorm(d_model)\n",
    "        #self.decoder = TransformerDecoder(decoder_layer, num_dec_layers, decoder_norm)\n",
    "        \n",
    "        # Transformer\n",
    "        self.transformer = nn.Transformer(d_model = d_model, \n",
    "                                          nhead = num_heads,\n",
    "                                          num_encoder_layers = num_enc_layers,\n",
    "                                          num_decoder_layers = num_dec_layers,\n",
    "                                          dim_feedforward = ffn_size,\n",
    "                                          dropout = dropout,\n",
    "                                          activation = activation,\n",
    "                                          custom_encoder = None, #self.encoder,\n",
    "                                          custom_decoder = None) #self.decoder)\n",
    "        \n",
    "        # Linear layer\n",
    "        self.fc = nn.Linear(d_model, trg_vocab_size)\n",
    "        \n",
    "        # Initialize weights\n",
    "        self.init_weights() # default: normal(0,1)\n",
    "\n",
    "\n",
    "    def init_weights(self):\n",
    "        #self.enc_embedding.weight.data.normal_(mean=0.0, std=1.0)\n",
    "        #self.dec_embedding.weight.data.normal_(mean=0.0, std=1.0)\n",
    "        nn.init.normal_(self.enc_embedding.weight, mean=0.0, std=1.0)\n",
    "        nn.init.normal_(self.dec_embedding.weight, mean=0.0, std=1.0)\n",
    "        \n",
    "        \n",
    "    def forward(self, src: torch.tensor, trg: torch.tensor):\n",
    "        src = self.enc_embedding(src) * math.sqrt(self.d_model)\n",
    "        src = self.pos_encoder(src)\n",
    "\n",
    "        trg = self.dec_embedding(trg) * math.sqrt(self.d_model)\n",
    "        trg = self.pos_encoder(trg)\n",
    "\n",
    "        output = self.transformer(src, trg)\n",
    "        output = self.fc(output)\n",
    "\n",
    "        return output"
   ]
  },
  {
   "cell_type": "code",
   "execution_count": 3,
   "metadata": {},
   "outputs": [],
   "source": [
    "class PositionalEncoding(nn.Module):\n",
    "\n",
    "    def __init__(self, d_model, dropout=0.1, max_len=5000):\n",
    "        super(PositionalEncoding, self).__init__()\n",
    "        self.dropout = nn.Dropout(p=dropout)\n",
    "\n",
    "        pe = torch.zeros(max_len, d_model)\n",
    "        position = torch.arange(0, max_len, dtype=torch.float).unsqueeze(1)\n",
    "        div_term = torch.exp(torch.arange(0, d_model, 2).float() * (-math.log(10000.0) / d_model))\n",
    "        pe[:, 0::2] = torch.sin(position * div_term)\n",
    "        pe[:, 1::2] = torch.cos(position * div_term)\n",
    "        pe = pe.unsqueeze(0).transpose(0, 1)\n",
    "        self.register_buffer('pe', pe)\n",
    "\n",
    "    def forward(self, x):\n",
    "        x = x + self.pe[:x.size(0), :]\n",
    "        return self.dropout(x)"
   ]
  },
  {
   "cell_type": "markdown",
   "metadata": {},
   "source": [
    "# 2. Train, evaluate and inference functions"
   ]
  },
  {
   "cell_type": "code",
   "execution_count": 4,
   "metadata": {},
   "outputs": [],
   "source": [
    "def train(model: nn.Module,\n",
    "          iterator: BucketIterator,\n",
    "          optimizer: optim.Optimizer,\n",
    "          criterion: nn.Module,\n",
    "          clip_value: float):\n",
    "    \n",
    "    model.train() # Turn on the training mode\n",
    "\n",
    "    loss_sum = 0\n",
    "\n",
    "    for i, batch in enumerate(iterator):\n",
    "        src = batch.src\n",
    "        trg = batch.trg\n",
    "            #src: [src_len, batch_size]\n",
    "            #trg: [trg_len, batch_size]\n",
    "    \n",
    "        src = src.to(device)\n",
    "        trg = trg.to(device)\n",
    "\n",
    "        output = model(src = src[:,:], trg = trg[:-1,:])\n",
    "            # output: [trg_len-1, batch_size, trg_vocab_size]\n",
    "        \n",
    "        loss =  criterion(output.view(-1, output.shape[2]), trg[1:,:].view(-1))\n",
    "\n",
    "        optimizer.zero_grad()\n",
    "        loss.backward()\n",
    "        torch.nn.utils.clip_grad_norm_(model.parameters(), clip_value)\n",
    "        optimizer.step()\n",
    "        \n",
    "        loss_sum += loss.item()\n",
    "\n",
    "    epoch_loss = loss_sum / len(iterator)\n",
    "    return epoch_loss"
   ]
  },
  {
   "cell_type": "code",
   "execution_count": 5,
   "metadata": {},
   "outputs": [],
   "source": [
    "def evaluate(model: nn.Module,\n",
    "             iterator: BucketIterator,\n",
    "             criterion: nn.Module):\n",
    "    \n",
    "    model.eval() # Turn on the evaluation mode\n",
    "    \n",
    "    loss_sum = 0\n",
    "    \n",
    "    with torch.no_grad():\n",
    "\n",
    "        for i, batch in enumerate(iterator):\n",
    "            src = batch.src\n",
    "            trg = batch.trg\n",
    "                #src: [src_len, batch_size]\n",
    "                #trg: [trg_len, batch_size]\n",
    "\n",
    "            src = src.to(device)\n",
    "            trg = trg.to(device)\n",
    "\n",
    "            output = model(src = src[:,:], trg = trg[:-1,:])\n",
    "                # output: [trg_len-1, batch_size, trg_vocab_size]\n",
    "\n",
    "            loss =  criterion(output.view(-1, output.shape[2]), trg[1:,:].view(-1))\n",
    "\n",
    "            loss_sum += loss.item()\n",
    "\n",
    "        epoch_loss = loss_sum / len(iterator)\n",
    "    return epoch_loss"
   ]
  },
  {
   "cell_type": "code",
   "execution_count": 6,
   "metadata": {},
   "outputs": [],
   "source": [
    "def inference(src: torch.tensor,\n",
    "              trg: torch.tensor,\n",
    "              model: nn.Module,\n",
    "              criterion: nn.Module):\n",
    "    \n",
    "    model.eval() # Turn on the evaluation mode\n",
    "    \n",
    "    with torch.no_grad():\n",
    "            #src: [src_len, batch_size]\n",
    "            #trg: [trg_len, batch_size]\n",
    "    \n",
    "        src = src.to(device)\n",
    "        trg = trg.to(device)\n",
    "        \n",
    "        output = model(src = src[:,:], trg = trg[:-1,:])\n",
    "            #output: [trg_len-1, batch_size, trg_vocab_size]\n",
    "\n",
    "        loss =  criterion(output.view(-1, output.shape[2]), trg[1:,:].view(-1))\n",
    "   \n",
    "        #Predictions\n",
    "        preds = torch.argmax(output.permute(1, 0, 2), dim = 2)\n",
    "        preds_words = []\n",
    "        for sent in preds:\n",
    "            sent_words = []\n",
    "            for token in sent:\n",
    "                if token == TRG.vocab.stoi['<eos>']:\n",
    "                    break\n",
    "                else:\n",
    "                    sent_words.append(TRG.vocab.itos[token])\n",
    "            preds_words.append(sent_words)\n",
    "\n",
    "        #Targets\n",
    "        trgs_words = []\n",
    "        for sent in trg.permute(1,0)[:,1:]:\n",
    "            sent_words = []\n",
    "            for token in sent:\n",
    "                if token == TRG.vocab.stoi['<eos>']:\n",
    "                    break\n",
    "                else:\n",
    "                    sent_words.append(TRG.vocab.itos[token])\n",
    "            trgs_words.append(sent_words)\n",
    "        \n",
    "        #Sources\n",
    "        srcs_words = []\n",
    "        for sent in src.permute(1,0)[:,:]:\n",
    "            sent_words = []\n",
    "            for token in sent:\n",
    "                if token == SRC.vocab.stoi['<eos>']:\n",
    "                    break\n",
    "                else:\n",
    "                    sent_words.append(SRC.vocab.itos[token])\n",
    "            srcs_words.append(sent_words)\n",
    "\n",
    "        for i in range(len(preds_words)):\n",
    "            print(f\"\\nsrc:\\t {' '.join([token for token in srcs_words[i]])}\")\n",
    "            print(f\"trg:\\t {' '.join([token for token in trgs_words[i]])}\")\n",
    "            print(f\"pred:\\t {' '.join([token for token in preds_words[i]])}\")\n",
    "    \n",
    "    return loss"
   ]
  },
  {
   "cell_type": "code",
   "execution_count": 7,
   "metadata": {},
   "outputs": [],
   "source": [
    "def count_parameters(model: nn.Module):\n",
    "    return sum(p.numel() for p in model.parameters() if p.requires_grad)"
   ]
  },
  {
   "cell_type": "code",
   "execution_count": 8,
   "metadata": {},
   "outputs": [],
   "source": [
    "def epoch_time(start_time: int, end_time: int):\n",
    "    elapsed_time = end_time - start_time\n",
    "    elapsed_mins = int(elapsed_time / 60)\n",
    "    elapsed_secs = int(elapsed_time - (elapsed_mins * 60))\n",
    "    return elapsed_mins, elapsed_secs"
   ]
  },
  {
   "cell_type": "markdown",
   "metadata": {},
   "source": [
    "# 3. Run the model"
   ]
  },
  {
   "cell_type": "code",
   "execution_count": 9,
   "metadata": {},
   "outputs": [],
   "source": [
    "# Hyperparameters\n",
    "tutorial_name = 'nmt_transformer_multik30'\n",
    "\n",
    "BATCH_SIZE = 32\n",
    "NUM_EPOCHS = 50\n",
    "\n",
    "LR = 0.001\n",
    "CLIP_VALUE = 1\n",
    "\n",
    "D_MODEL = 100 #in the original paper 512\n",
    "NUM_HEADS = 2 #in the original paper 8\n",
    "NUM_ENC_LAYERS = 2 #in the original paper 6 \n",
    "NUM_DEC_LAYERS = 2 #in the original paper 6\n",
    "FFN_SIZE = 512 #in the original paper 2048\n",
    "DROPOUT_PROB = 0.1 #in the original paper 0.1"
   ]
  },
  {
   "cell_type": "code",
   "execution_count": 10,
   "metadata": {},
   "outputs": [
    {
     "name": "stdout",
     "output_type": "stream",
     "text": [
      "Device: cuda\n"
     ]
    }
   ],
   "source": [
    "# Device configuration\n",
    "device = 'cuda' if torch.cuda.is_available() else 'cpu'\n",
    "print(f'Device: {device}')"
   ]
  },
  {
   "cell_type": "code",
   "execution_count": 11,
   "metadata": {},
   "outputs": [],
   "source": [
    "# Fields\n",
    "SRC = Field(tokenize = \"spacy\",\n",
    "            tokenizer_language=\"de\",\n",
    "            sequential = True,\n",
    "            use_vocab = True,\n",
    "            init_token = None, \n",
    "            eos_token = '<eos>',\n",
    "            fix_length = None,\n",
    "            dtype = torch.long,\n",
    "            lower = True,\n",
    "            include_lengths = False,\n",
    "            batch_first = False,\n",
    "            pad_token = \"<pad>\",\n",
    "            unk_token = \"<unk>\")\n",
    "\n",
    "TRG = Field(tokenize = \"spacy\",\n",
    "            tokenizer_language=\"en\",\n",
    "            sequential = True,\n",
    "            use_vocab = True,\n",
    "            init_token = '<sos>', \n",
    "            eos_token = '<eos>',\n",
    "            fix_length = None,\n",
    "            dtype = torch.long,\n",
    "            lower = True,\n",
    "            include_lengths = False,\n",
    "            batch_first = False,\n",
    "            pad_token = \"<pad>\",\n",
    "            unk_token = \"<unk>\")\n",
    "\n",
    "fields = [('src', SRC), ('trg', TRG)]"
   ]
  },
  {
   "cell_type": "code",
   "execution_count": 12,
   "metadata": {},
   "outputs": [
    {
     "name": "stdout",
     "output_type": "stream",
     "text": [
      "train_data size: 29000\n",
      "dev_data size: 1014\n",
      "test_data size: 1000\n"
     ]
    }
   ],
   "source": [
    "# Load dataset\n",
    "train_data, dev_data, test_data = Multi30k.splits(exts = ('.de', '.en'),\n",
    "                                                  fields = fields)\n",
    "\n",
    "print(f'train_data size: {len(train_data)}')\n",
    "print(f'dev_data size: {len(dev_data)}')\n",
    "print(f'test_data size: {len(test_data)}')"
   ]
  },
  {
   "cell_type": "code",
   "execution_count": 13,
   "metadata": {},
   "outputs": [
    {
     "name": "stdout",
     "output_type": "stream",
     "text": [
      "src_vocab_size: 7854\n",
      "trg_vocab_size: 5893\n"
     ]
    }
   ],
   "source": [
    "# Vocabulary\n",
    "SRC.build_vocab(train_data,\n",
    "                max_size = None,\n",
    "                min_freq = 2,\n",
    "                vectors = None)\n",
    "\n",
    "TRG.build_vocab(train_data,\n",
    "                max_size = None,\n",
    "                min_freq = 2,\n",
    "                vectors = None)\n",
    "\n",
    "print(f'src_vocab_size: {len(SRC.vocab)}')\n",
    "print(f'trg_vocab_size: {len(TRG.vocab)}')"
   ]
  },
  {
   "cell_type": "code",
   "execution_count": 14,
   "metadata": {},
   "outputs": [],
   "source": [
    "# Iterators\n",
    "iterators = BucketIterator.splits((train_data, dev_data, test_data),\n",
    "                                    batch_size = BATCH_SIZE,\n",
    "                                    sort_key = lambda x: len(x.src),\n",
    "                                    device = None,\n",
    "                                    shuffle = True)\n",
    "train_iterator, dev_iterator, test_iterator = iterators"
   ]
  },
  {
   "cell_type": "code",
   "execution_count": 24,
   "metadata": {
    "scrolled": true
   },
   "outputs": [],
   "source": [
    "# Initialize the model\n",
    "model = TransformerModel(src_vocab_size = len(SRC.vocab),\n",
    "                         trg_vocab_size = len(TRG.vocab),\n",
    "                         d_model = D_MODEL,\n",
    "                         num_heads = NUM_HEADS,\n",
    "                         num_enc_layers = NUM_ENC_LAYERS,\n",
    "                         num_dec_layers = NUM_DEC_LAYERS,\n",
    "                         ffn_size = FFN_SIZE,\n",
    "                         dropout = DROPOUT_PROB,\n",
    "                         activation = 'relu')\n",
    "\n",
    "# Move model to the device\n",
    "model = model.to(device)\n",
    "#print(model)"
   ]
  },
  {
   "cell_type": "code",
   "execution_count": 25,
   "metadata": {},
   "outputs": [
    {
     "name": "stdout",
     "output_type": "stream",
     "text": [
      "\n",
      "num_parameters: 2626741\n"
     ]
    }
   ],
   "source": [
    "# Parameters\n",
    "num_parameters = count_parameters(model)\n",
    "print(f'\\nnum_parameters: {num_parameters}')"
   ]
  },
  {
   "cell_type": "code",
   "execution_count": 26,
   "metadata": {},
   "outputs": [],
   "source": [
    "# Loss (CrossEntropyLoss calculates both nn.LogSoftmax() and nn.NLLLoss() )\n",
    "PAD_IDX = TRG.vocab.stoi['<pad>']\n",
    "criterion = nn.CrossEntropyLoss(ignore_index=PAD_IDX)"
   ]
  },
  {
   "cell_type": "code",
   "execution_count": 27,
   "metadata": {},
   "outputs": [],
   "source": [
    "# Optimizer\n",
    "optimizer = optim.Adam(params = model.parameters(), lr = LR)"
   ]
  },
  {
   "cell_type": "code",
   "execution_count": 28,
   "metadata": {
    "scrolled": true
   },
   "outputs": [
    {
     "name": "stdout",
     "output_type": "stream",
     "text": [
      "\n",
      "Training:\n",
      "--------------------------------------------------------------------------------\n",
      "Epoch: 001 | Time: 0m 22s\n",
      "\tTrain loss: 3.9474 | Train PPL: 51.7990\n",
      "\tDev loss:   2.9499 | Dev PPL:   19.1047\n",
      "--------------------------------------------------------------------------------\n",
      "Epoch: 010 | Time: 0m 22s\n",
      "\tTrain loss: 1.4181 | Train PPL:  4.1291\n",
      "\tDev loss:   1.4166 | Dev PPL:    4.1230\n",
      "--------------------------------------------------------------------------------\n",
      "Epoch: 020 | Time: 0m 22s\n",
      "\tTrain loss: 1.0922 | Train PPL:  2.9807\n",
      "\tDev loss:   1.2950 | Dev PPL:    3.6510\n",
      "--------------------------------------------------------------------------------\n",
      "Epoch: 030 | Time: 0m 22s\n",
      "\tTrain loss: 0.9329 | Train PPL:  2.5419\n",
      "\tDev loss:   1.1863 | Dev PPL:    3.2750\n",
      "--------------------------------------------------------------------------------\n",
      "Epoch: 040 | Time: 0m 23s\n",
      "\tTrain loss: 0.8000 | Train PPL:  2.2255\n",
      "\tDev loss:   1.1155 | Dev PPL:    3.0511\n",
      "--------------------------------------------------------------------------------\n",
      "Epoch: 050 | Time: 0m 22s\n",
      "\tTrain loss: 0.6872 | Train PPL:  1.9882\n",
      "\tDev loss:   1.0019 | Dev PPL:    2.7236\n"
     ]
    }
   ],
   "source": [
    "# Training loop\n",
    "print('\\nTraining:')\n",
    "\n",
    "train_loss_history = []\n",
    "dev_loss_history = []\n",
    "best_dev_loss = float('inf')\n",
    "\n",
    "for epoch in range(NUM_EPOCHS):\n",
    "    \n",
    "    start_time = time.time()\n",
    "\n",
    "    train_loss = train(model = model,\n",
    "                       iterator = train_iterator,\n",
    "                       optimizer = optimizer,\n",
    "                       criterion =  criterion,\n",
    "                       clip_value = CLIP_VALUE)\n",
    "  \n",
    "    dev_loss = evaluate(model = model,\n",
    "                        iterator = dev_iterator,\n",
    "                        criterion =  criterion)\n",
    "    \n",
    "    train_loss_history.append(train_loss)\n",
    "    dev_loss_history.append(dev_loss)\n",
    "\n",
    "    end_time = time.time()\n",
    "    epoch_mins, epoch_secs = epoch_time(start_time, end_time)\n",
    "\n",
    "    if dev_loss < best_dev_loss:\n",
    "        best_dev_loss = dev_loss\n",
    "        torch.save(model.state_dict(), 'saved_models/'+tutorial_name+'.pt')\n",
    "    \n",
    "    #if epoch+1 == 1 or (epoch+1) % 10 == 0:\n",
    "    print('-' * 80)\n",
    "    print(f'Epoch: {epoch+1:03} | Time: {epoch_mins}m {epoch_secs}s')\n",
    "    print(f'\\tTrain loss: {train_loss:.4f} | Train PPL: {math.exp(train_loss):7.4f}')\n",
    "    print(f'\\tDev loss:   {dev_loss:.4f} | Dev PPL:   {math.exp(dev_loss):7.4f}')"
   ]
  },
  {
   "cell_type": "markdown",
   "metadata": {},
   "source": [
    "# 4. Learning curves"
   ]
  },
  {
   "cell_type": "code",
   "execution_count": 30,
   "metadata": {},
   "outputs": [
    {
     "data": {
      "text/plain": [
       "<matplotlib.legend.Legend at 0x7f1a538dd100>"
      ]
     },
     "execution_count": 30,
     "metadata": {},
     "output_type": "execute_result"
    },
    {
     "data": {
      "image/png": "[encoded data removed]",
      "text/plain": [
       "<Figure size 1080x576 with 1 Axes>"
      ]
     },
     "metadata": {
      "needs_background": "light"
     },
     "output_type": "display_data"
    }
   ],
   "source": [
    "plt.figure(figsize=(15,8))\n",
    "plt.grid(b=True)\n",
    "plt.plot(train_loss_history, label='Train loss')\n",
    "plt.plot(dev_loss_history, label='Dev loss')\n",
    "plt.title('Learning curves')\n",
    "plt.ylabel('Value')\n",
    "plt.xlabel('Epoch')\n",
    "plt.legend()"
   ]
  },
  {
   "cell_type": "code",
   "execution_count": 31,
   "metadata": {},
   "outputs": [
    {
     "name": "stdout",
     "output_type": "stream",
     "text": [
      "min_dev_loss: 1.0019429260864854 , epoch: 50\n"
     ]
    }
   ],
   "source": [
    "# Best dev loss\n",
    "min_dev_loss = min(dev_loss_history)\n",
    "epoch = np.argmin(dev_loss_history)+1\n",
    "print(f'min_dev_loss: {min_dev_loss} , epoch: {epoch}')"
   ]
  },
  {
   "cell_type": "markdown",
   "metadata": {},
   "source": [
    "# 5. Evaluation"
   ]
  },
  {
   "cell_type": "code",
   "execution_count": 32,
   "metadata": {},
   "outputs": [
    {
     "name": "stdout",
     "output_type": "stream",
     "text": [
      "\tTest loss: 1.0191\t | Test PPL:  2.7706\n"
     ]
    }
   ],
   "source": [
    "test_loss = evaluate(model = model,\n",
    "                     iterator = test_iterator,\n",
    "                     criterion =  criterion)\n",
    "    \n",
    "print(f'\\tTest loss: {test_loss:.4f} | Test PPL: {math.exp(test_loss):7.4f}')"
   ]
  },
  {
   "cell_type": "markdown",
   "metadata": {},
   "source": [
    "# 6. Inference\n",
    "\n",
    "Take some test examples and check the trained model's output"
   ]
  },
  {
   "cell_type": "code",
   "execution_count": 35,
   "metadata": {},
   "outputs": [],
   "source": [
    "# Load bests model\n",
    "model.load_state_dict(torch.load('saved_models/'+tutorial_name+'.pt'))\n",
    "\n",
    "# Iterator\n",
    "infer_test_iterator = Iterator(test_data,\n",
    "                                 batch_size = 10,\n",
    "                                 sort_key = lambda x: len(x.src),\n",
    "                                 device = None,\n",
    "                                 shuffle = True,\n",
    "                                 sort = False)\n",
    "#print(model)"
   ]
  },
  {
   "cell_type": "code",
   "execution_count": 36,
   "metadata": {},
   "outputs": [
    {
     "name": "stdout",
     "output_type": "stream",
     "text": [
      "\n",
      "src:\t ein gruppe kinder sitzt auf einer blauen matte und isst aus schalen .\n",
      "trg:\t a group of children sit on a blue mat while they eat out of bowls .\n",
      "pred:\t a group of children sit on a blue mat while they eat out of children .\n",
      "\n",
      "src:\t der junge ist im freien und genießt einen sommertag .\n",
      "trg:\t the boy is outside enjoying a summer day .\n",
      "pred:\t the boy is enjoying enjoying a summer day .\n",
      "\n",
      "src:\t zwei leute in komischen <unk> , eines blau und eines <unk> , stehen auf einer straße .\n",
      "trg:\t two people wearing odd <unk> - like costumes , one blue and one purple , are standing in a road .\n",
      "pred:\t two people wearing odd costumes , like a , one in and one in , are standing in a road .\n",
      "\n",
      "src:\t ein cowboy versucht beim rodeo , die 8 <unk> zu schaffen .\n",
      "trg:\t a cowboy in a rodeo trying to beat the 8 second clock .\n",
      "pred:\t a rodeo in a rodeo cowboy to the the second cowboy cowboy .\n",
      "\n",
      "src:\t ein großes , graues <unk> und ein typ auf dem fahrrad .\n",
      "trg:\t a large gray sea deck and a guy on the bike .\n",
      "pred:\t a guy gray bike bike . a bike on the bike .\n",
      "\n",
      "src:\t eine gruppe macht tricks auf motorrädern .\n",
      "trg:\t a group of people do tricks on motorbikes .\n",
      "pred:\t a group of people do tricks on motorbikes .\n",
      "\n",
      "src:\t eine frau in roten hosen und mit einem blauen helm fährt fahrrad .\n",
      "trg:\t a woman in a blue helmet and red pants riding a motorcycle .\n",
      "pred:\t a woman in a blue helmet riding red pants riding a motorcycle .\n",
      "\n",
      "src:\t zwei kinder überqueren einen kleinen bach über eine steinbrücke .\n",
      "trg:\t two children cross a small brook using a stone bridge .\n",
      "pred:\t two children cross a small stone . a stone bridge .\n",
      "\n",
      "src:\t ein junge in einem roten trikot versucht , die home base zu erreichen , während der <unk> im blauen trikot versucht , ihn zu fangen .\n",
      "trg:\t a boy in a red uniform is attempting to avoid getting out at home plate , while the catcher in the blue uniform is attempting to catch him .\n",
      "pred:\t a boy in a red uniform is attempting to catch him ready to the plate . while the plate . the plate uniform is attempting to catch the .\n",
      "\n",
      "src:\t ein kleines mädchen in einem violett karierten kleid liegt auf dem boden und weint .\n",
      "trg:\t a little girl in a purple plaid dress is lying on the floor crying .\n",
      "pred:\t a little girl in a purple dress dress is lying on the floor . lying\n",
      "\n",
      "loss: 1.3630175590515137\n"
     ]
    }
   ],
   "source": [
    "batch = next(iter(infer_test_iterator))\n",
    "src = batch.src\n",
    "trg = batch.trg\n",
    "    #src: [src_len, batch_size]\n",
    "    #trg: [trg_len, batch_size]\n",
    "\n",
    "loss = inference(src, trg, model, criterion)\n",
    "print(f'\\nloss: {loss}')"
   ]
  },
  {
   "cell_type": "markdown",
   "metadata": {},
   "source": [
    "# That's it!"
   ]
  }
 ],
 "metadata": {
  "kernelspec": {
   "display_name": "Python 3",
   "language": "python",
   "name": "python3"
  },
  "language_info": {
   "codemirror_mode": {
    "name": "ipython",
    "version": 3
   },
   "file_extension": ".py",
   "mimetype": "text/x-python",
   "name": "python",
   "nbconvert_exporter": "python",
   "pygments_lexer": "ipython3",
   "version": "3.8.1"
  }
 },
 "nbformat": 4,
 "nbformat_minor": 4
}
